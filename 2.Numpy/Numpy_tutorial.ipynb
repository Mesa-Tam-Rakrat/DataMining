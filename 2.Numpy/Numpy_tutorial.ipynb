{
 "cells": [
  {
   "cell_type": "markdown",
   "id": "7f890167",
   "metadata": {},
   "source": [
    "## 1. Import numpy as np เรียกใช้งาน numpy"
   ]
  },
  {
   "cell_type": "code",
   "execution_count": 1,
   "id": "f751d066",
   "metadata": {},
   "outputs": [],
   "source": [
    "import numpy as np"
   ]
  },
  {
   "cell_type": "code",
   "execution_count": null,
   "id": "3fdc3418",
   "metadata": {},
   "outputs": [],
   "source": [
    "# Syntax creating Array\n",
    "# array_name = np.array()\n",
    "\n",
    "# 1 - dimensiona1 array 1,5,2,0 \n",
    "arr_1d = np.array([ 1, 5, 2, 0 ])\n",
    "# 2 - dimensional array  1,5,2,0  8,3,6,1  1,7,2,9\n",
    "arr_2d = np.array([ [1,5,2,0], [8,3,6,1], [1,7,2,9] ])\n",
    "\n",
    "# 3 - dimensional array 10, 15, 20, 25   30, 35, 40, 45   50, 55, 60, 65 \n",
    "arr_3d = np.array([ [10, 15], \n",
    "                [ 20, 25], \n",
    "                \n",
    "                [30, 35], \n",
    "                [40, 45],\n",
    "                \n",
    "                [50, 55], \n",
    "                [60, 65] ])"
   ]
  },
  {
   "cell_type": "code",
   "execution_count": 5,
   "id": "8fa79767",
   "metadata": {},
   "outputs": [
    {
     "name": "stdout",
     "output_type": "stream",
     "text": [
      "[1 5 2 0]\n",
      "----------------\n",
      "[[1 5 2 0]\n",
      " [8 3 6 1]\n",
      " [1 7 2 9]]\n"
     ]
    }
   ],
   "source": [
    "print(arr_1d)\n",
    "print('----------------')\n",
    "print(arr_2d)"
   ]
  },
  {
   "cell_type": "code",
   "execution_count": 6,
   "id": "3c52f090",
   "metadata": {},
   "outputs": [
    {
     "name": "stdout",
     "output_type": "stream",
     "text": [
      "[[10 15]\n",
      " [20 25]\n",
      " [30 35]\n",
      " [40 45]\n",
      " [50 55]\n",
      " [60 65]]\n"
     ]
    }
   ],
   "source": [
    "print(arr_3d)"
   ]
  },
  {
   "cell_type": "code",
   "execution_count": 7,
   "id": "52c5c0ae",
   "metadata": {},
   "outputs": [],
   "source": [
    "default_array = np.array([1,2,3,4,5,6])\n",
    "default_array_2d = np.array([ [1,2,3,4], [5,6,7,8], [9,10,11,12] ])"
   ]
  },
  {
   "cell_type": "code",
   "execution_count": 13,
   "id": "a4778f38",
   "metadata": {},
   "outputs": [
    {
     "data": {
      "text/plain": [
       "np.int64(8)"
      ]
     },
     "execution_count": 13,
     "metadata": {},
     "output_type": "execute_result"
    }
   ],
   "source": [
    "# สามตัวแรก จาก default_array\n",
    "# default_array[ :3]\n",
    "\n",
    "# ตีวที่ 4 เป็นต้นไป default_array\n",
    "# default_array[3:]\n",
    "\n",
    "# สามชืกใน row 2 columns 4  ใน default_array_2d\n",
    "default_array_2d[1,3]"
   ]
  },
  {
   "cell_type": "code",
   "execution_count": 14,
   "id": "d44ecc56",
   "metadata": {},
   "outputs": [],
   "source": [
    "array_attribute = np.array([ [  1, 2, 3, 4 ], [  5, 6, 7, 8 ], [ 9, 10, 11, 12 ] ])"
   ]
  },
  {
   "cell_type": "code",
   "execution_count": null,
   "id": "14e96a92",
   "metadata": {},
   "outputs": [
    {
     "data": {
      "text/plain": [
       "dtype('int64')"
      ]
     },
     "execution_count": 18,
     "metadata": {},
     "output_type": "execute_result"
    }
   ],
   "source": [
    "# ตรวจสอบคุณสมบัติของ Array\n",
    "\n",
    "# array_attribute.ndim ดูว่ามีกี่มิติ\n",
    "array_attribute.ndim\n",
    "# array_attribute.shape ดูว่ามีกี่แถว กี่คอลัมน์ (3,4)\n",
    "array_attribute.shape\n",
    "# array_attribute.size จำนวนสมาชิก\n",
    "array_attribute.size\n",
    "# array_attribute.dtype ตรวจสอบชนิดข้อมูล (dtype('int64'))\n",
    "array_attribute.dtype"
   ]
  },
  {
   "cell_type": "code",
   "execution_count": 19,
   "id": "80dc9ec1",
   "metadata": {},
   "outputs": [],
   "source": [
    "zero_2d_array = np.zeros(2)\n",
    "one_1d_array = np.ones(5)\n",
    "arang_array = np.arange(4)\n",
    "step_arang_array= np.arange(2,9,2)  # start stop step "
   ]
  },
  {
   "cell_type": "code",
   "execution_count": 20,
   "id": "587aaeff",
   "metadata": {},
   "outputs": [
    {
     "name": "stdout",
     "output_type": "stream",
     "text": [
      "[0. 0.]\n",
      "[1. 1. 1. 1. 1.]\n",
      "[0 1 2 3]\n",
      "[2 4 6 8]\n",
      "[1. 1. 1. 1. 1.]\n"
     ]
    }
   ],
   "source": [
    "# zero_2d_array\n",
    "print(zero_2d_array)\n",
    "# one_1d_array\n",
    "print(one_1d_array)\n",
    "# arang_array\n",
    "print(arang_array)\n",
    "# step_arang_array\n",
    "print(step_arang_array)\n",
    "print(one_1d_array)"
   ]
  },
  {
   "cell_type": "code",
   "execution_count": null,
   "id": "d103664c",
   "metadata": {},
   "outputs": [],
   "source": [
    "array_sample = np.arange(20)"
   ]
  },
  {
   "cell_type": "code",
   "execution_count": 22,
   "id": "c700fcad",
   "metadata": {},
   "outputs": [
    {
     "name": "stdout",
     "output_type": "stream",
     "text": [
      "[ 0  1  2  3  4  5  6  7  8  9 10 11 12 13 14 15 16 17 18 19]\n"
     ]
    }
   ],
   "source": [
    "print(array_sample)"
   ]
  },
  {
   "cell_type": "code",
   "execution_count": 23,
   "id": "a9a1e0be",
   "metadata": {},
   "outputs": [
    {
     "data": {
      "text/plain": [
       "array([[ 0,  1,  2,  3,  4,  5,  6,  7,  8,  9],\n",
       "       [10, 11, 12, 13, 14, 15, 16, 17, 18, 19]])"
      ]
     },
     "execution_count": 23,
     "metadata": {},
     "output_type": "execute_result"
    }
   ],
   "source": [
    "# reshape สองแถว\n",
    "array_sample.reshape(2,10)"
   ]
  },
  {
   "cell_type": "code",
   "execution_count": 24,
   "id": "ac7ad645",
   "metadata": {},
   "outputs": [
    {
     "data": {
      "text/plain": [
       "array([[ 0,  1],\n",
       "       [ 2,  3],\n",
       "       [ 4,  5],\n",
       "       [ 6,  7],\n",
       "       [ 8,  9],\n",
       "       [10, 11],\n",
       "       [12, 13],\n",
       "       [14, 15],\n",
       "       [16, 17],\n",
       "       [18, 19]])"
      ]
     },
     "execution_count": 24,
     "metadata": {},
     "output_type": "execute_result"
    }
   ],
   "source": [
    "array_sample.reshape(10,2)"
   ]
  },
  {
   "cell_type": "code",
   "execution_count": 26,
   "id": "12ab581e",
   "metadata": {},
   "outputs": [
    {
     "data": {
      "text/plain": [
       "array([[ 0,  1,  2,  3],\n",
       "       [ 4,  5,  6,  7],\n",
       "       [ 8,  9, 10, 11],\n",
       "       [12, 13, 14, 15],\n",
       "       [16, 17, 18, 19]])"
      ]
     },
     "execution_count": 26,
     "metadata": {},
     "output_type": "execute_result"
    }
   ],
   "source": [
    "# reshape(2,3)\n",
    "array_sample.reshape(5,4)"
   ]
  }
 ],
 "metadata": {
  "kernelspec": {
   "display_name": "env",
   "language": "python",
   "name": "python3"
  },
  "language_info": {
   "codemirror_mode": {
    "name": "ipython",
    "version": 3
   },
   "file_extension": ".py",
   "mimetype": "text/x-python",
   "name": "python",
   "nbconvert_exporter": "python",
   "pygments_lexer": "ipython3",
   "version": "3.13.5"
  }
 },
 "nbformat": 4,
 "nbformat_minor": 5
}
