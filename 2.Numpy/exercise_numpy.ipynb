{
 "cells": [
  {
   "cell_type": "markdown",
   "id": "12bb88e9",
   "metadata": {},
   "source": [
    "## การบ้าน library numpy \n",
    "\n",
    "นางสาวเมษา รักราษฎร์"
   ]
  },
  {
   "cell_type": "code",
   "execution_count": null,
   "id": "2200de47",
   "metadata": {},
   "outputs": [],
   "source": [
    "# import numpy \n",
    "\n",
    "import numpy as np"
   ]
  }
 ],
 "metadata": {
  "kernelspec": {
   "display_name": "env",
   "language": "python",
   "name": "python3"
  },
  "language_info": {
   "name": "python",
   "version": "3.13.5"
  }
 },
 "nbformat": 4,
 "nbformat_minor": 5
}
