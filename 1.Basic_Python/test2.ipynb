{
 "cells": [
  {
   "cell_type": "markdown",
   "id": "e7b84eca",
   "metadata": {},
   "source": [
    "# Basic python"
   ]
  },
  {
   "cell_type": "code",
   "execution_count": 2,
   "id": "35b2ff2b",
   "metadata": {},
   "outputs": [
    {
     "data": {
      "text/plain": [
       "44"
      ]
     },
     "execution_count": 2,
     "metadata": {},
     "output_type": "execute_result"
    }
   ],
   "source": [
    "age = 44\n",
    "age"
   ]
  },
  {
   "cell_type": "markdown",
   "id": "857ef325",
   "metadata": {},
   "source": [
    "# Installing package"
   ]
  },
  {
   "cell_type": "code",
   "execution_count": null,
   "id": "2550e959",
   "metadata": {},
   "outputs": [],
   "source": [
    "# Installing jupyter\n",
    "! pip install jupyter"
   ]
  },
  {
   "cell_type": "code",
   "execution_count": null,
   "id": "983848c2",
   "metadata": {},
   "outputs": [],
   "source": [
    "# Installing numpy , ! pip , % pip\n",
    "%pip intall numpy"
   ]
  },
  {
   "cell_type": "code",
   "execution_count": null,
   "id": "74dff1e6",
   "metadata": {},
   "outputs": [],
   "source": [
    "# Installing pandas\n",
    "! pip install pandas"
   ]
  },
  {
   "cell_type": "markdown",
   "id": "81761bd4",
   "metadata": {},
   "source": [
    "1. matplotlib 2. scikit-learn 3. openpyxl 4. seaborn"
   ]
  },
  {
   "cell_type": "code",
   "execution_count": null,
   "id": "aee28221",
   "metadata": {},
   "outputs": [],
   "source": [
    "# Install matplotlib\n",
    "! pip install matplotlib"
   ]
  },
  {
   "cell_type": "code",
   "execution_count": null,
   "id": "cbd2a82c",
   "metadata": {},
   "outputs": [],
   "source": [
    "# Install scikit-learn\n",
    "%pip install scikit-learn"
   ]
  },
  {
   "cell_type": "code",
   "execution_count": null,
   "id": "cf6bdb06",
   "metadata": {},
   "outputs": [],
   "source": [
    "# Install openpyxl\n",
    "! pip install openpyxl"
   ]
  },
  {
   "cell_type": "code",
   "execution_count": null,
   "id": "6623cf15",
   "metadata": {},
   "outputs": [],
   "source": [
    "# Install seaborn\n",
    "%pip install seaborn"
   ]
  }
 ],
 "metadata": {
  "kernelspec": {
   "display_name": "env",
   "language": "python",
   "name": "python3"
  },
  "language_info": {
   "codemirror_mode": {
    "name": "ipython",
    "version": 3
   },
   "file_extension": ".py",
   "mimetype": "text/x-python",
   "name": "python",
   "nbconvert_exporter": "python",
   "pygments_lexer": "ipython3",
   "version": "3.13.5"
  }
 },
 "nbformat": 4,
 "nbformat_minor": 5
}
