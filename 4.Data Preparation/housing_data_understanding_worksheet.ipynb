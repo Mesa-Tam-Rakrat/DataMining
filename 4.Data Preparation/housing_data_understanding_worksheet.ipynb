{
 "cells": [
  {
   "cell_type": "markdown",
   "id": "ebd0a4d4",
   "metadata": {},
   "source": [
    "# Data Understanding Worksheet : Housing Dataset\n",
    "\n",
    "ในใบงานนี้ นักศึกษาจะได้ฝึกกระบวนการ **ทำความเข้าใจกับข้อมูล (Data Understanding)** โดยใช้ dataset `housing.csv` (เช่น California Housing Dataset) ซึ่งประกอบด้วยข้อมูลเชิงประชากรและที่อยู่อาศัยในแคลิฟอร์เนีย\n",
    "\n",
    "---\n",
    "*Generated: 2025-08-28 13:31:06*"
   ]
  },
  {
   "cell_type": "code",
   "execution_count": 1,
   "id": "4c5e9fba",
   "metadata": {},
   "outputs": [],
   "source": [
    "## ตั้งค่าเริ่มต้น\n",
    "import pandas as pd\n",
    "import matplotlib.pyplot as plt\n",
    "import seaborn as sns\n",
    "\n",
    "# ตั้งค่าการแสดงผลของ pandas (ปรับได้ตามชอบ)\n",
    "pd.set_option('display.max_columns', 100)\n",
    "pd.set_option('display.precision', 3)\n"
   ]
  },
  {
   "cell_type": "markdown",
   "id": "5d923ccc",
   "metadata": {},
   "source": [
    "## 1) ตรวจสอบโครงสร้างข้อมูล (Data Structure)\n",
    "**คำสั่ง:**\n",
    "1. โหลดไฟล์ `housing.csv` มาเป็น DataFrame ชื่อ `housing`\n",
    "2. แสดงจำนวนแถวและคอลัมน์ของ dataset (`.shape`)\n",
    "3. ตรวจสอบชนิดข้อมูลของแต่ละคอลัมน์ (`.info()`)\n"
   ]
  },
  {
   "cell_type": "code",
   "execution_count": 7,
   "id": "eb0d7f2b",
   "metadata": {},
   "outputs": [],
   "source": [
    "# TODO: เขียนโค้ดที่นี่\n",
    "housing = pd.read_csv('./datasets/housing(4).csv')"
   ]
  },
  {
   "cell_type": "code",
   "execution_count": 8,
   "id": "aa210b30",
   "metadata": {},
   "outputs": [
    {
     "data": {
      "text/plain": [
       "(5000, 7)"
      ]
     },
     "execution_count": 8,
     "metadata": {},
     "output_type": "execute_result"
    }
   ],
   "source": [
    "# TODO: ตรวจสอบชนิดข้อมูล\n",
    "housing.shape #  แสดงจำนวนแถวและคอลัมน์ของ dataset (`.shape`)"
   ]
  },
  {
   "cell_type": "code",
   "execution_count": 9,
   "id": "fe8ccaa1",
   "metadata": {},
   "outputs": [
    {
     "name": "stdout",
     "output_type": "stream",
     "text": [
      "<class 'pandas.core.frame.DataFrame'>\n",
      "RangeIndex: 5000 entries, 0 to 4999\n",
      "Data columns (total 7 columns):\n",
      " #   Column                        Non-Null Count  Dtype  \n",
      "---  ------                        --------------  -----  \n",
      " 0   Avg. Area Income              5000 non-null   float64\n",
      " 1   Avg. Area House Age           5000 non-null   float64\n",
      " 2   Avg. Area Number of Rooms     5000 non-null   float64\n",
      " 3   Avg. Area Number of Bedrooms  5000 non-null   float64\n",
      " 4   Area Population               5000 non-null   float64\n",
      " 5   Price                         5000 non-null   float64\n",
      " 6   Address                       5000 non-null   object \n",
      "dtypes: float64(6), object(1)\n",
      "memory usage: 273.6+ KB\n"
     ]
    }
   ],
   "source": [
    "housing.info() # ตรวจสอบชนิดข้อมูลของแต่ละคอลัมน์ (`.info()`)"
   ]
  },
  {
   "cell_type": "markdown",
   "id": "24e227f7",
   "metadata": {},
   "source": [
    "## 2) ตรวจสอบ Missing Values\n",
    "**คำสั่ง:**\n",
    "1. ตรวจสอบว่ามีคอลัมน์ใดที่มี missing values บ้าง\n",
    "2. แสดงจำนวนและสัดส่วน (%) ของ missing values ในแต่ละคอลัมน์\n"
   ]
  },
  {
   "cell_type": "code",
   "execution_count": null,
   "id": "044a00f9",
   "metadata": {},
   "outputs": [
    {
     "data": {
      "text/html": [
       "<div>\n",
       "<style scoped>\n",
       "    .dataframe tbody tr th:only-of-type {\n",
       "        vertical-align: middle;\n",
       "    }\n",
       "\n",
       "    .dataframe tbody tr th {\n",
       "        vertical-align: top;\n",
       "    }\n",
       "\n",
       "    .dataframe thead th {\n",
       "        text-align: right;\n",
       "    }\n",
       "</style>\n",
       "<table border=\"1\" class=\"dataframe\">\n",
       "  <thead>\n",
       "    <tr style=\"text-align: right;\">\n",
       "      <th></th>\n",
       "      <th>Avg. Area Income</th>\n",
       "      <th>Avg. Area House Age</th>\n",
       "      <th>Avg. Area Number of Rooms</th>\n",
       "      <th>Avg. Area Number of Bedrooms</th>\n",
       "      <th>Area Population</th>\n",
       "      <th>Price</th>\n",
       "      <th>Address</th>\n",
       "    </tr>\n",
       "  </thead>\n",
       "  <tbody>\n",
       "    <tr>\n",
       "      <th>0</th>\n",
       "      <td>False</td>\n",
       "      <td>False</td>\n",
       "      <td>False</td>\n",
       "      <td>False</td>\n",
       "      <td>False</td>\n",
       "      <td>False</td>\n",
       "      <td>False</td>\n",
       "    </tr>\n",
       "    <tr>\n",
       "      <th>1</th>\n",
       "      <td>False</td>\n",
       "      <td>False</td>\n",
       "      <td>False</td>\n",
       "      <td>False</td>\n",
       "      <td>False</td>\n",
       "      <td>False</td>\n",
       "      <td>False</td>\n",
       "    </tr>\n",
       "    <tr>\n",
       "      <th>2</th>\n",
       "      <td>False</td>\n",
       "      <td>False</td>\n",
       "      <td>False</td>\n",
       "      <td>False</td>\n",
       "      <td>False</td>\n",
       "      <td>False</td>\n",
       "      <td>False</td>\n",
       "    </tr>\n",
       "    <tr>\n",
       "      <th>3</th>\n",
       "      <td>False</td>\n",
       "      <td>False</td>\n",
       "      <td>False</td>\n",
       "      <td>False</td>\n",
       "      <td>False</td>\n",
       "      <td>False</td>\n",
       "      <td>False</td>\n",
       "    </tr>\n",
       "    <tr>\n",
       "      <th>4</th>\n",
       "      <td>False</td>\n",
       "      <td>False</td>\n",
       "      <td>False</td>\n",
       "      <td>False</td>\n",
       "      <td>False</td>\n",
       "      <td>False</td>\n",
       "      <td>False</td>\n",
       "    </tr>\n",
       "    <tr>\n",
       "      <th>...</th>\n",
       "      <td>...</td>\n",
       "      <td>...</td>\n",
       "      <td>...</td>\n",
       "      <td>...</td>\n",
       "      <td>...</td>\n",
       "      <td>...</td>\n",
       "      <td>...</td>\n",
       "    </tr>\n",
       "    <tr>\n",
       "      <th>4995</th>\n",
       "      <td>False</td>\n",
       "      <td>False</td>\n",
       "      <td>False</td>\n",
       "      <td>False</td>\n",
       "      <td>False</td>\n",
       "      <td>False</td>\n",
       "      <td>False</td>\n",
       "    </tr>\n",
       "    <tr>\n",
       "      <th>4996</th>\n",
       "      <td>False</td>\n",
       "      <td>False</td>\n",
       "      <td>False</td>\n",
       "      <td>False</td>\n",
       "      <td>False</td>\n",
       "      <td>False</td>\n",
       "      <td>False</td>\n",
       "    </tr>\n",
       "    <tr>\n",
       "      <th>4997</th>\n",
       "      <td>False</td>\n",
       "      <td>False</td>\n",
       "      <td>False</td>\n",
       "      <td>False</td>\n",
       "      <td>False</td>\n",
       "      <td>False</td>\n",
       "      <td>False</td>\n",
       "    </tr>\n",
       "    <tr>\n",
       "      <th>4998</th>\n",
       "      <td>False</td>\n",
       "      <td>False</td>\n",
       "      <td>False</td>\n",
       "      <td>False</td>\n",
       "      <td>False</td>\n",
       "      <td>False</td>\n",
       "      <td>False</td>\n",
       "    </tr>\n",
       "    <tr>\n",
       "      <th>4999</th>\n",
       "      <td>False</td>\n",
       "      <td>False</td>\n",
       "      <td>False</td>\n",
       "      <td>False</td>\n",
       "      <td>False</td>\n",
       "      <td>False</td>\n",
       "      <td>False</td>\n",
       "    </tr>\n",
       "  </tbody>\n",
       "</table>\n",
       "<p>5000 rows × 7 columns</p>\n",
       "</div>"
      ],
      "text/plain": [
       "      Avg. Area Income  Avg. Area House Age  Avg. Area Number of Rooms  \\\n",
       "0                False                False                      False   \n",
       "1                False                False                      False   \n",
       "2                False                False                      False   \n",
       "3                False                False                      False   \n",
       "4                False                False                      False   \n",
       "...                ...                  ...                        ...   \n",
       "4995             False                False                      False   \n",
       "4996             False                False                      False   \n",
       "4997             False                False                      False   \n",
       "4998             False                False                      False   \n",
       "4999             False                False                      False   \n",
       "\n",
       "      Avg. Area Number of Bedrooms  Area Population  Price  Address  \n",
       "0                            False            False  False    False  \n",
       "1                            False            False  False    False  \n",
       "2                            False            False  False    False  \n",
       "3                            False            False  False    False  \n",
       "4                            False            False  False    False  \n",
       "...                            ...              ...    ...      ...  \n",
       "4995                         False            False  False    False  \n",
       "4996                         False            False  False    False  \n",
       "4997                         False            False  False    False  \n",
       "4998                         False            False  False    False  \n",
       "4999                         False            False  False    False  \n",
       "\n",
       "[5000 rows x 7 columns]"
      ]
     },
     "execution_count": 10,
     "metadata": {},
     "output_type": "execute_result"
    }
   ],
   "source": [
    "# TODO: เขียนโค้ดที่นี่\n",
    "# ตรวจสอบข้อมูลสูญหาย missing value\n",
    "#  .isnull() \n",
    "housing.isnull()"
   ]
  },
  {
   "cell_type": "code",
   "execution_count": 14,
   "id": "3dccefea",
   "metadata": {},
   "outputs": [
    {
     "data": {
      "text/plain": [
       "Avg. Area Income                0.0\n",
       "Avg. Area House Age             0.0\n",
       "Avg. Area Number of Rooms       0.0\n",
       "Avg. Area Number of Bedrooms    0.0\n",
       "Area Population                 0.0\n",
       "Price                           0.0\n",
       "Address                         0.0\n",
       "dtype: float64"
      ]
     },
     "execution_count": 14,
     "metadata": {},
     "output_type": "execute_result"
    }
   ],
   "source": [
    "# แสดงจำนวนและสัดส่วน (%) ของ missing values ในแต่ละคอลัมน์\n",
    "percent_missing_value = housing.isnull().sum() *100 / len(housing)\n",
    "percent_missing_value"
   ]
  },
  {
   "cell_type": "markdown",
   "id": "ee6ffed3",
   "metadata": {},
   "source": [
    "## 3) สถิติพื้นฐาน (Descriptive Statistics)\n",
    "**คำสั่ง:**\n",
    "1. แสดงค่าสถิติพื้นฐานของคอลัมน์ตัวเลข (`.describe()`)\n",
    "2. หาค่าเฉลี่ยและค่ามัธยฐานของ `median_income` และ `median_house_value`\n"
   ]
  },
  {
   "cell_type": "code",
   "execution_count": 15,
   "id": "e19954a5",
   "metadata": {},
   "outputs": [
    {
     "data": {
      "text/html": [
       "<div>\n",
       "<style scoped>\n",
       "    .dataframe tbody tr th:only-of-type {\n",
       "        vertical-align: middle;\n",
       "    }\n",
       "\n",
       "    .dataframe tbody tr th {\n",
       "        vertical-align: top;\n",
       "    }\n",
       "\n",
       "    .dataframe thead th {\n",
       "        text-align: right;\n",
       "    }\n",
       "</style>\n",
       "<table border=\"1\" class=\"dataframe\">\n",
       "  <thead>\n",
       "    <tr style=\"text-align: right;\">\n",
       "      <th></th>\n",
       "      <th>Avg. Area Income</th>\n",
       "      <th>Avg. Area House Age</th>\n",
       "      <th>Avg. Area Number of Rooms</th>\n",
       "      <th>Avg. Area Number of Bedrooms</th>\n",
       "      <th>Area Population</th>\n",
       "      <th>Price</th>\n",
       "    </tr>\n",
       "  </thead>\n",
       "  <tbody>\n",
       "    <tr>\n",
       "      <th>count</th>\n",
       "      <td>5000.000</td>\n",
       "      <td>5000.000</td>\n",
       "      <td>5000.000</td>\n",
       "      <td>5000.000</td>\n",
       "      <td>5000.000</td>\n",
       "      <td>5.000e+03</td>\n",
       "    </tr>\n",
       "    <tr>\n",
       "      <th>mean</th>\n",
       "      <td>68583.109</td>\n",
       "      <td>5.977</td>\n",
       "      <td>6.988</td>\n",
       "      <td>3.981</td>\n",
       "      <td>36163.516</td>\n",
       "      <td>1.232e+06</td>\n",
       "    </tr>\n",
       "    <tr>\n",
       "      <th>std</th>\n",
       "      <td>10657.991</td>\n",
       "      <td>0.991</td>\n",
       "      <td>1.006</td>\n",
       "      <td>1.234</td>\n",
       "      <td>9925.650</td>\n",
       "      <td>3.531e+05</td>\n",
       "    </tr>\n",
       "    <tr>\n",
       "      <th>min</th>\n",
       "      <td>17796.631</td>\n",
       "      <td>2.644</td>\n",
       "      <td>3.236</td>\n",
       "      <td>2.000</td>\n",
       "      <td>172.611</td>\n",
       "      <td>1.594e+04</td>\n",
       "    </tr>\n",
       "    <tr>\n",
       "      <th>25%</th>\n",
       "      <td>61480.562</td>\n",
       "      <td>5.322</td>\n",
       "      <td>6.299</td>\n",
       "      <td>3.140</td>\n",
       "      <td>29403.929</td>\n",
       "      <td>9.976e+05</td>\n",
       "    </tr>\n",
       "    <tr>\n",
       "      <th>50%</th>\n",
       "      <td>68804.286</td>\n",
       "      <td>5.970</td>\n",
       "      <td>7.003</td>\n",
       "      <td>4.050</td>\n",
       "      <td>36199.407</td>\n",
       "      <td>1.233e+06</td>\n",
       "    </tr>\n",
       "    <tr>\n",
       "      <th>75%</th>\n",
       "      <td>75783.339</td>\n",
       "      <td>6.651</td>\n",
       "      <td>7.666</td>\n",
       "      <td>4.490</td>\n",
       "      <td>42861.291</td>\n",
       "      <td>1.471e+06</td>\n",
       "    </tr>\n",
       "    <tr>\n",
       "      <th>max</th>\n",
       "      <td>107701.748</td>\n",
       "      <td>9.519</td>\n",
       "      <td>10.760</td>\n",
       "      <td>6.500</td>\n",
       "      <td>69621.713</td>\n",
       "      <td>2.469e+06</td>\n",
       "    </tr>\n",
       "  </tbody>\n",
       "</table>\n",
       "</div>"
      ],
      "text/plain": [
       "       Avg. Area Income  Avg. Area House Age  Avg. Area Number of Rooms  \\\n",
       "count          5000.000             5000.000                   5000.000   \n",
       "mean          68583.109                5.977                      6.988   \n",
       "std           10657.991                0.991                      1.006   \n",
       "min           17796.631                2.644                      3.236   \n",
       "25%           61480.562                5.322                      6.299   \n",
       "50%           68804.286                5.970                      7.003   \n",
       "75%           75783.339                6.651                      7.666   \n",
       "max          107701.748                9.519                     10.760   \n",
       "\n",
       "       Avg. Area Number of Bedrooms  Area Population      Price  \n",
       "count                      5000.000         5000.000  5.000e+03  \n",
       "mean                          3.981        36163.516  1.232e+06  \n",
       "std                           1.234         9925.650  3.531e+05  \n",
       "min                           2.000          172.611  1.594e+04  \n",
       "25%                           3.140        29403.929  9.976e+05  \n",
       "50%                           4.050        36199.407  1.233e+06  \n",
       "75%                           4.490        42861.291  1.471e+06  \n",
       "max                           6.500        69621.713  2.469e+06  "
      ]
     },
     "execution_count": 15,
     "metadata": {},
     "output_type": "execute_result"
    }
   ],
   "source": [
    "# TODO: เขียนโค้ดที่นี่\n",
    "# แสดงค่าสถิติพื้นฐานของคอลัมน์ตัวเลข (`.describe()`)\n",
    "housing.describe() \n"
   ]
  },
  {
   "cell_type": "code",
   "execution_count": null,
   "id": "7725d863",
   "metadata": {},
   "outputs": [],
   "source": [
    "# หาค่าเฉลี่ยและค่ามัธยฐานของ `median_income` และ `median_house_value`\n",
    "# คำนวณค่าเฉลี่ย\n"
   ]
  },
  {
   "cell_type": "markdown",
   "id": "d7d8854f",
   "metadata": {},
   "source": [
    "## 4) การแจกแจงข้อมูล (Distribution)\n",
    "**คำสั่ง:**\n",
    "1. วาด histogram ของ `median_income`\n",
    "2. วาด histogram ของ `median_house_value`\n",
    "3. อธิบายว่าการแจกแจงเป็นแบบไหน (เบ้ซ้าย/เบ้ขวา, มีเพดานค่า ฯลฯ)\n"
   ]
  },
  {
   "cell_type": "code",
   "execution_count": 23,
   "id": "3752eadb",
   "metadata": {},
   "outputs": [
    {
     "data": {
      "image/png": "[encoded data removed]",
      "text/plain": [
       "<Figure size 640x480 with 6 Axes>"
      ]
     },
     "metadata": {},
     "output_type": "display_data"
    }
   ],
   "source": [
    "# TODO: เขียนโค้ดที่นี่\n",
    "# bins = 50 \n",
    "housing.hist()\n",
    "plt.show()"
   ]
  },
  {
   "cell_type": "code",
   "execution_count": null,
   "id": "6278e82c",
   "metadata": {},
   "outputs": [],
   "source": [
    "# TODO: เขียนโค้ดที่นี่\n",
    "\n"
   ]
  },
  {
   "cell_type": "markdown",
   "id": "562c174b",
   "metadata": {},
   "source": [
    "> อธิบายด้วยคำพูดสั้น ๆ: \n",
    "- รูปร่างการกระจายของ `median_income` เป็นอย่างไร?\n",
    "- `median_house_value` มีแนวโน้มชนเพดานหรือไม่?\n"
   ]
  },
  {
   "cell_type": "markdown",
   "id": "a64840bb",
   "metadata": {},
   "source": [
    "## 5) ความสัมพันธ์ระหว่างตัวแปร (Correlation)\n",
    "**คำสั่ง:**\n",
    "1. คำนวณ correlation matrix ของตัวแปรเชิงตัวเลข (`.corr(numeric_only=True)`) \n",
    "2. หา feature ที่สัมพันธ์กับ `median_house_value` มากที่สุด (ยกเว้นตัวมันเอง)\n",
    "3. สร้าง heatmap ของ correlation matrix\n"
   ]
  },
  {
   "cell_type": "code",
   "execution_count": null,
   "id": "7937a4b0",
   "metadata": {},
   "outputs": [],
   "source": [
    "# TODO: คำนวณ correlation matrix\n"
   ]
  },
  {
   "cell_type": "code",
   "execution_count": null,
   "id": "1dc1b69d",
   "metadata": {},
   "outputs": [],
   "source": [
    "# TODO: หาคอลัมน์ที่สัมพันธ์กับ median_house_value มากที่สุด\n",
    "# ยังไม่ต้องทำก็ได้ "
   ]
  },
  {
   "cell_type": "markdown",
   "id": "26bccc01",
   "metadata": {},
   "source": [
    "## 6) Scatter Plot ความสัมพันธ์\n",
    "**คำสั่ง:**\n",
    "1. สร้าง scatter plot ของ `median_income` กับ `median_house_value`\n",
    "2. สังเกตความสัมพันธ์และอธิบายสิ่งที่พบ\n"
   ]
  },
  {
   "cell_type": "code",
   "execution_count": null,
   "id": "48dde3b1",
   "metadata": {},
   "outputs": [],
   "source": [
    "# TODO: เขียนโค้ดที่นี่\n",
    "\n"
   ]
  },
  {
   "cell_type": "markdown",
   "id": "4f3e4bb9",
   "metadata": {},
   "source": [
    "## 7) Outlier Exploration\n",
    "**คำสั่ง:**\n",
    "1. ตรวจสอบคอลัมน์ที่อาจมี outlier ชัดเจน (เช่น `total_rooms`, `population`)\n",
    "2. เสนอแนวทางการจัดการ outlier (เช่น ลบ, winsorize, log transform, ใช้ robust model)\n"
   ]
  },
  {
   "cell_type": "code",
   "execution_count": null,
   "id": "1e301896",
   "metadata": {},
   "outputs": [],
   "source": [
    "# TODO: ตัวอย่างเริ่มต้นสำหรับตรวจสอบ outlier ด้วย quantile\n"
   ]
  },
  {
   "cell_type": "markdown",
   "id": "53210597",
   "metadata": {},
   "source": [
    "### คำตอบแบบบรรยาย (สั้น ๆ)\n",
    "- คอลัมน์ใดที่น่าจะมี outlier?\n",
    "- จะจัดการอย่างไร? (เหตุผลประกอบ)\n"
   ]
  },
  {
   "cell_type": "markdown",
   "id": "d593dd9f",
   "metadata": {},
   "source": [
    "## สรุป\n",
    "จากการวิเคราะห์ นักศึกษาควรสามารถสรุปได้ว่า:\n",
    "- dataset มีตัวแปรอะไรบ้าง และมี missing values ตรงไหน\n",
    "- การกระจายตัวของข้อมูลเป็นอย่างไร\n",
    "- ตัวแปรใดสัมพันธ์กับราคาบ้าน (`median_house_value`) มากที่สุด\n",
    "- พื้นที่ไหนที่ราคาบ้านสูงหรือต่ำ\n",
    "- มี outlier หรือข้อจำกัดของข้อมูลอะไรบ้าง\n"
   ]
  }
 ],
 "metadata": {
  "kernelspec": {
   "display_name": "environments",
   "language": "python",
   "name": "python3"
  },
  "language_info": {
   "codemirror_mode": {
    "name": "ipython",
    "version": 3
   },
   "file_extension": ".py",
   "mimetype": "text/x-python",
   "name": "python",
   "nbconvert_exporter": "python",
   "pygments_lexer": "ipython3",
   "version": "3.13.5"
  }
 },
 "nbformat": 4,
 "nbformat_minor": 5
}
