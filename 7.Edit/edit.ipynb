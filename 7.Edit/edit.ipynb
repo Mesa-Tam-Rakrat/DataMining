{
 "cells": [
  {
   "cell_type": "markdown",
   "id": "cd5d65ec",
   "metadata": {},
   "source": [
    "# 1) คำสั่งใดใช้ติดตั้ง NumPy ในสภาพแวดล้อม Python ได้โดยตรง"
   ]
  },
  {
   "cell_type": "code",
   "execution_count": 15,
   "id": "d7277f28",
   "metadata": {},
   "outputs": [],
   "source": [
    "# 1) คำสั่งใดใช้ติดตั้ง NumPy ในสภาพแวดล้อม Python ได้โดยตรง\n",
    "! pip install numpy\n",
    "\n",
    "# Ans B) pip install numpy"
   ]
  },
  {
   "cell_type": "markdown",
   "id": "80030795",
   "metadata": {},
   "source": [
    "# 2) การนำเข้า NumPy ให้ใช้นามแฝงมาตรฐานว่า np ในข้อใด"
   ]
  },
  {
   "cell_type": "code",
   "execution_count": 6,
   "id": "24072141",
   "metadata": {},
   "outputs": [],
   "source": [
    "# 2) การนำเข้า NumPy ให้ใช้นามแฝงมาตรฐานว่า np ในข้อใด\n",
    "import numpy as np\n",
    "\n",
    "# Ans C) import numpy as np"
   ]
  },
  {
   "cell_type": "markdown",
   "id": "1cfe9ed9",
   "metadata": {},
   "source": [
    "# 3) สำหรับอาเรย์ arr_2d = np.array([[1,5,2,0],[8,3,6,1],[1,7,2,9]]) ค่าของ arr_2d.shape คืออะไร"
   ]
  },
  {
   "cell_type": "code",
   "execution_count": 7,
   "id": "597740b1",
   "metadata": {},
   "outputs": [
    {
     "name": "stdout",
     "output_type": "stream",
     "text": [
      "[[1 5 2 0]\n",
      " [8 3 6 1]\n",
      " [1 7 2 9]]\n"
     ]
    }
   ],
   "source": [
    "# 3) สำหรับอาเรย์ arr_2d = np.array([[1,5,2,0],[8,3,6,1],[1,7,2,9]]) ค่าของ arr_2d.shape คืออะไร\n",
    "arr_2d = np.array([[1,5,2,0],[8,3,6,1],[1,7,2,9]])\n",
    "print(arr_2d)\n",
    "\n",
    "# Ans A) (4,3)\t"
   ]
  },
  {
   "cell_type": "markdown",
   "id": "16ec9054",
   "metadata": {},
   "source": [
    "# 4) ให้ default_array = np.array([1,2,3,4,5,6]) ผลของ default_array[:3] คือข้อใดต่อไปนี้"
   ]
  },
  {
   "cell_type": "code",
   "execution_count": 8,
   "id": "f73e2c85",
   "metadata": {},
   "outputs": [
    {
     "data": {
      "text/plain": [
       "array([1, 2, 3])"
      ]
     },
     "execution_count": 8,
     "metadata": {},
     "output_type": "execute_result"
    }
   ],
   "source": [
    "# 4) ให้ default_array = np.array([1,2,3,4,5,6]) ผลของ default_array[:3] คือข้อใดต่อไปนี้\n",
    "default_array = np.array([1,2,3,4,5,6])\n",
    "default_array[:3]\n",
    "\n",
    "# Ans A) [1,2,3]"
   ]
  },
  {
   "cell_type": "markdown",
   "id": "f5fc5679",
   "metadata": {},
   "source": [
    "# 5) จากข้อเดิม ผลของ default_array[3:] คือ"
   ]
  },
  {
   "cell_type": "code",
   "execution_count": 9,
   "id": "66a9efeb",
   "metadata": {},
   "outputs": [
    {
     "data": {
      "text/plain": [
       "array([4, 5, 6])"
      ]
     },
     "execution_count": 9,
     "metadata": {},
     "output_type": "execute_result"
    }
   ],
   "source": [
    "# 5) จากข้อเดิม ผลของ default_array[3:] คือ\n",
    "default_array[3:]\n",
    "\n",
    "# Ans C) [4,5,6]"
   ]
  },
  {
   "cell_type": "markdown",
   "id": "4401c370",
   "metadata": {},
   "source": [
    "# 6) ให้ default_array_2d = np.array([[1,2,3,4],[5,6,7,8],[9,10,11,12]]) ค่า default_array_2d[1,3] เท่ากับข้อใดต่อไปนี้"
   ]
  },
  {
   "cell_type": "code",
   "execution_count": 10,
   "id": "87690d6e",
   "metadata": {},
   "outputs": [
    {
     "data": {
      "text/plain": [
       "np.int64(8)"
      ]
     },
     "execution_count": 10,
     "metadata": {},
     "output_type": "execute_result"
    }
   ],
   "source": [
    "# 6) ให้ default_array_2d = np.array([[1,2,3,4],[5,6,7,8],[9,10,11,12]]) ค่า default_array_2d[1,3] เท่ากับข้อใดต่อไปนี้\n",
    "default_array_2d = np.array([[1,2,3,4],[5,6,7,8],[9,10,11,12]])\n",
    "default_array_2d[1,3]\n",
    "\n",
    "# Ans C) 8"
   ]
  },
  {
   "cell_type": "markdown",
   "id": "ced072df",
   "metadata": {},
   "source": [
    "# 7) ให้ array_attribute = np.array([[1,2,3,4],[5,6,7,8],[9,10,11,12]]) ค่าของ array_attribute.ndim คือข้อใดต่อไปนี้"
   ]
  },
  {
   "cell_type": "code",
   "execution_count": 11,
   "id": "4d7acb39",
   "metadata": {},
   "outputs": [
    {
     "data": {
      "text/plain": [
       "2"
      ]
     },
     "execution_count": 11,
     "metadata": {},
     "output_type": "execute_result"
    }
   ],
   "source": [
    "# 7) ให้ array_attribute = np.array([[1,2,3,4],[5,6,7,8],[9,10,11,12]]) ค่าของ array_attribute.ndim คือข้อใดต่อไปนี้\n",
    "array_attribute = np.array([[1,2,3,4],[5,6,7,8],[9,10,11,12]])\n",
    "array_attribute.ndim\n",
    "\n",
    "# Ans B) 2 "
   ]
  },
  {
   "cell_type": "markdown",
   "id": "811a1e59",
   "metadata": {},
   "source": [
    "# 8) จากอาเรย์เดียวกัน array_attribute.size มีค่าเท่าใด"
   ]
  },
  {
   "cell_type": "code",
   "execution_count": 12,
   "id": "1a1bc38f",
   "metadata": {},
   "outputs": [
    {
     "data": {
      "text/plain": [
       "12"
      ]
     },
     "execution_count": 12,
     "metadata": {},
     "output_type": "execute_result"
    }
   ],
   "source": [
    "# 8) จากอาเรย์เดียวกัน array_attribute.size มีค่าเท่าใด\n",
    "array_attribute.size\n",
    "\n",
    "# Ans C) 12 "
   ]
  },
  {
   "cell_type": "markdown",
   "id": "3d1fa463",
   "metadata": {},
   "source": [
    "# 9) คำสั่งใดสร้างอาเรย์เลขคี่จาก 1 ถึง 15 ได้ถูกต้อง"
   ]
  },
  {
   "cell_type": "code",
   "execution_count": 13,
   "id": "7691fa49",
   "metadata": {},
   "outputs": [
    {
     "data": {
      "text/plain": [
       "array([ 1,  3,  5,  7,  9, 11, 13, 15])"
      ]
     },
     "execution_count": 13,
     "metadata": {},
     "output_type": "execute_result"
    }
   ],
   "source": [
    "# 9) คำสั่งใดสร้างอาเรย์เลขคี่จาก 1 ถึง 15 ได้ถูกต้อง\n",
    "np.arange(1,16,2)\n",
    "\n",
    "# Ans A) np.arange(1,16,2)"
   ]
  },
  {
   "cell_type": "markdown",
   "id": "3a1c7ec9",
   "metadata": {},
   "source": [
    "# 10) np.arange(0,10,2) จะได้อาเรย์ยาวเท่าใด"
   ]
  },
  {
   "cell_type": "code",
   "execution_count": 14,
   "id": "b1c68a8a",
   "metadata": {},
   "outputs": [
    {
     "data": {
      "text/plain": [
       "array([0, 2, 4, 6, 8])"
      ]
     },
     "execution_count": 14,
     "metadata": {},
     "output_type": "execute_result"
    }
   ],
   "source": [
    "# 10) np.arange(0,10,2) จะได้อาเรย์ยาวเท่าใด\n",
    "np.arange(0,10,2)\n",
    "\n",
    "# Ans B) 5"
   ]
  },
  {
   "cell_type": "markdown",
   "id": "f13fcb4d",
   "metadata": {},
   "source": [
    "# 11) np.linspace(0,1,5) ค่าองค์ประกอบลำดับที่ 3 (index 2) คือข้อใดต่อไปนี้"
   ]
  },
  {
   "cell_type": "code",
   "execution_count": 15,
   "id": "b1322e8c",
   "metadata": {},
   "outputs": [
    {
     "data": {
      "text/plain": [
       "array([0.  , 0.25, 0.5 , 0.75, 1.  ])"
      ]
     },
     "execution_count": 15,
     "metadata": {},
     "output_type": "execute_result"
    }
   ],
   "source": [
    "# 11) np.linspace(0,1,5) ค่าองค์ประกอบลำดับที่ 3 (index 2) คือข้อใดต่อไปนี้\n",
    "np.linspace(0,1,5)\n",
    "\n",
    "# Ans A) 0.25\t"
   ]
  },
  {
   "cell_type": "markdown",
   "id": "b895463c",
   "metadata": {},
   "source": [
    "# 12) ข้อใด “ไม่ถูกต้อง” เกี่ยวกับฟังก์ชันสร้างอาเรย์"
   ]
  },
  {
   "cell_type": "code",
   "execution_count": 16,
   "id": "d1f6b6bd",
   "metadata": {},
   "outputs": [
    {
     "ename": "AttributeError",
     "evalue": "module 'numpy' has no attribute 'arrang'",
     "output_type": "error",
     "traceback": [
      "\u001b[31m---------------------------------------------------------------------------\u001b[39m",
      "\u001b[31mAttributeError\u001b[39m                            Traceback (most recent call last)",
      "\u001b[36mCell\u001b[39m\u001b[36m \u001b[39m\u001b[32mIn[16]\u001b[39m\u001b[32m, line 2\u001b[39m\n\u001b[32m      1\u001b[39m \u001b[38;5;66;03m# 12) ข้อใด “ไม่ถูกต้อง” เกี่ยวกับฟังก์ชันสร้างอาเรย์\u001b[39;00m\n\u001b[32m----> \u001b[39m\u001b[32m2\u001b[39m \u001b[43mnp\u001b[49m\u001b[43m.\u001b[49m\u001b[43marrang\u001b[49m(\u001b[32m4\u001b[39m) \n\u001b[32m      4\u001b[39m \u001b[38;5;66;03m# Ans D) np.arrang(4) สร้างอาเรย์ 0..3\u001b[39;00m\n",
      "\u001b[36mFile \u001b[39m\u001b[32md:\\Mesa R\\วิชา อ.ต้น_Power_BI\\DataMining\\DataMining\\environments\\Lib\\site-packages\\numpy\\__init__.py:808\u001b[39m, in \u001b[36m__getattr__\u001b[39m\u001b[34m(attr)\u001b[39m\n\u001b[32m    805\u001b[39m     \u001b[38;5;28;01mimport\u001b[39;00m\u001b[38;5;250m \u001b[39m\u001b[34;01mnumpy\u001b[39;00m\u001b[34;01m.\u001b[39;00m\u001b[34;01mchar\u001b[39;00m\u001b[38;5;250m \u001b[39m\u001b[38;5;28;01mas\u001b[39;00m\u001b[38;5;250m \u001b[39m\u001b[34;01mchar\u001b[39;00m\n\u001b[32m    806\u001b[39m     \u001b[38;5;28;01mreturn\u001b[39;00m char.chararray\n\u001b[32m--> \u001b[39m\u001b[32m808\u001b[39m \u001b[38;5;28;01mraise\u001b[39;00m \u001b[38;5;167;01mAttributeError\u001b[39;00m(\u001b[33mf\u001b[39m\u001b[33m\"\u001b[39m\u001b[33mmodule \u001b[39m\u001b[38;5;132;01m{\u001b[39;00m\u001b[34m__name__\u001b[39m\u001b[38;5;132;01m!r}\u001b[39;00m\u001b[33m has no attribute \u001b[39m\u001b[38;5;132;01m{\u001b[39;00mattr\u001b[38;5;132;01m!r}\u001b[39;00m\u001b[33m\"\u001b[39m)\n",
      "\u001b[31mAttributeError\u001b[39m: module 'numpy' has no attribute 'arrang'"
     ]
    }
   ],
   "source": [
    "# 12) ข้อใด “ไม่ถูกต้อง” เกี่ยวกับฟังก์ชันสร้างอาเรย์\n",
    "np.arrang(4) \n",
    "\n",
    "# Ans D) np.arrang(4) สร้างอาเรย์ 0..3"
   ]
  },
  {
   "cell_type": "markdown",
   "id": "2a1e6132",
   "metadata": {},
   "source": [
    "# 13) ให้ b = np.array([[1,1],[2,2]]) ผลของ b.sum(axis=0) คือข้อใดต่อไปนี้ "
   ]
  },
  {
   "cell_type": "code",
   "execution_count": null,
   "id": "01fdf5a9",
   "metadata": {},
   "outputs": [
    {
     "data": {
      "text/plain": [
       "array([3, 3])"
      ]
     },
     "execution_count": 26,
     "metadata": {},
     "output_type": "execute_result"
    }
   ],
   "source": [
    "# 13) ให้ b = np.array([[1,1],[2,2]]) ผลของ b.sum(axis=0) คือข้อใดต่อไปนี้ \n",
    "b = np.array([[1,1],[2,2]])\n",
    "b.sum(axis=0)\n",
    "\n",
    "# Ans B) [3,3]"
   ]
  },
  {
   "cell_type": "markdown",
   "id": "9d48a525",
   "metadata": {},
   "source": [
    "# 14) ให้ arr = np.arange(12) ข้อใด “ถูกต้อง”"
   ]
  },
  {
   "cell_type": "code",
   "execution_count": null,
   "id": "f3357a76",
   "metadata": {},
   "outputs": [
    {
     "data": {
      "text/plain": [
       "True"
      ]
     },
     "execution_count": 33,
     "metadata": {},
     "output_type": "execute_result"
    }
   ],
   "source": [
    "# 14) ให้ arr = np.arange(12) ข้อใด “ถูกต้อง”\n",
    "arr.reshape(6,2).T.shape == (2,6)\t\n",
    "\n",
    "# Ans C) arr.reshape(6,2).T.shape == (2,6)\t"
   ]
  },
  {
   "cell_type": "markdown",
   "id": "642bb182",
   "metadata": {},
   "source": [
    "# 15) ให้ a = np.ones((2,2)), b = np.zeros((2,2)) ผลของ np.vstack((a,b)).shape คือข้อใดต่อไปนี้"
   ]
  },
  {
   "cell_type": "code",
   "execution_count": null,
   "id": "bc32389b",
   "metadata": {},
   "outputs": [
    {
     "data": {
      "text/plain": [
       "((array([[1., 1.],\n",
       "         [1., 1.]]),),\n",
       " (2, 2))"
      ]
     },
     "execution_count": 55,
     "metadata": {},
     "output_type": "execute_result"
    }
   ],
   "source": [
    "# 15) ให้ a = np.ones((2,2)), b = np.zeros((2,2)) ผลของ np.vstack((a,b)).shape คือข้อใดต่อไปนี้\n",
    "a = np.ones((2,2)), \n",
    "b = np.zeros((2,2))\n",
    "a,b.shape\n",
    "# np.vstack((a,b)).shape\n",
    "\n",
    "# Ans C) (2,2)\t"
   ]
  },
  {
   "cell_type": "markdown",
   "id": "071d1a7d",
   "metadata": {},
   "source": [
    "# 16) ให้ arr_split = np.arange(24).reshape(3,8) ผลของ np.hsplit(arr_split, 2) แต่ละชิ้นมี shape เป็นข้อใดต่อไปนี้ "
   ]
  },
  {
   "cell_type": "code",
   "execution_count": null,
   "id": "256e406f",
   "metadata": {},
   "outputs": [
    {
     "data": {
      "text/plain": [
       "[array([[ 0,  1,  2,  3],\n",
       "        [ 8,  9, 10, 11],\n",
       "        [16, 17, 18, 19]]),\n",
       " array([[ 4,  5,  6,  7],\n",
       "        [12, 13, 14, 15],\n",
       "        [20, 21, 22, 23]])]"
      ]
     },
     "execution_count": 39,
     "metadata": {},
     "output_type": "execute_result"
    }
   ],
   "source": [
    "# 16) ให้ arr_split = np.arange(24).reshape(3,8) ผลของ np.hsplit(arr_split, 2) แต่ละชิ้นมี shape เป็นข้อใดต่อไปนี้ \n",
    "arr_split = np.arange(24).reshape(3,8)\n",
    "np.hsplit(arr_split, 2)\n",
    "\n",
    "# Ans B) (3,4)"
   ]
  },
  {
   "cell_type": "markdown",
   "id": "1414ac32",
   "metadata": {},
   "source": [
    "# 17) ให้ a = np.arange(6); b = a.view(); b[0] = 99 ค่าของ a[0] จะเป็นเท่าใด"
   ]
  },
  {
   "cell_type": "code",
   "execution_count": null,
   "id": "f38f4651",
   "metadata": {},
   "outputs": [
    {
     "data": {
      "text/plain": [
       "np.int64(99)"
      ]
     },
     "execution_count": 38,
     "metadata": {},
     "output_type": "execute_result"
    }
   ],
   "source": [
    "# 17) ให้ a = np.arange(6); b = a.view(); b[0] = 99 ค่าของ a[0] จะเป็นเท่าใด\n",
    "a = np.arange(6); b = a.view(); b[0] = 99\n",
    "a[0]\n",
    "\n",
    "# Ans B) 99"
   ]
  },
  {
   "cell_type": "markdown",
   "id": "82d47be6",
   "metadata": {},
   "source": [
    "# 18) ให้ arr = np.arange(12) ข้อใดตรงกับผล arr[[1,3,5]] "
   ]
  },
  {
   "cell_type": "code",
   "execution_count": null,
   "id": "bd3f05ba",
   "metadata": {},
   "outputs": [
    {
     "data": {
      "text/plain": [
       "array([1, 3, 5])"
      ]
     },
     "execution_count": 40,
     "metadata": {},
     "output_type": "execute_result"
    }
   ],
   "source": [
    "# 18) ให้ arr = np.arange(12) ข้อใดตรงกับผล arr[[1,3,5]] \n",
    "arr = np.arange(12)\n",
    "arr[[1,3,5]] \n",
    "\n",
    "# Ans A) [1,3,5]"
   ]
  },
  {
   "cell_type": "markdown",
   "id": "419071d2",
   "metadata": {},
   "source": [
    "# 19) ให้ arr = np.arange(12) ผลของ arr[arr > 5] คือข้อใดต่อไปนี้"
   ]
  },
  {
   "cell_type": "code",
   "execution_count": null,
   "id": "8745efd9",
   "metadata": {},
   "outputs": [
    {
     "data": {
      "text/plain": [
       "array([ 6,  7,  8,  9, 10, 11])"
      ]
     },
     "execution_count": 41,
     "metadata": {},
     "output_type": "execute_result"
    }
   ],
   "source": [
    "# 19) ให้ arr = np.arange(12) ผลของ arr[arr > 5] คือข้อใดต่อไปนี้\n",
    "arr = np.arange(12)\n",
    "arr[arr > 5]\n",
    "\n",
    "# Ans A) [6,7,8,9,10,11]"
   ]
  },
  {
   "cell_type": "markdown",
   "id": "e223dba2",
   "metadata": {},
   "source": [
    "# 20) ให้ data = np.array([1,2]), ones = np.ones(2) ผลของ data / ones คือข้อใดต่อไปนี้"
   ]
  },
  {
   "cell_type": "code",
   "execution_count": null,
   "id": "00fa7f28",
   "metadata": {},
   "outputs": [
    {
     "data": {
      "text/plain": [
       "(array([1, 2]),)"
      ]
     },
     "execution_count": 53,
     "metadata": {},
     "output_type": "execute_result"
    }
   ],
   "source": [
    "# 20) ให้ data = np.array([1,2]), ones = np.ones(2) ผลของ data / ones คือข้อใดต่อไปนี้\n",
    "data = np.array([1,2]),\n",
    "data \n",
    "# ones = np.ones(2)\n",
    "# ones\n",
    "\n",
    "# Ans B) [1.,2.]"
   ]
  },
  {
   "cell_type": "markdown",
   "id": "c019c73e",
   "metadata": {},
   "source": [
    "# 21) คำสั่งใดสร้าง DataFrame จากลิสต์ของลิสต์ได้ถูกต้อง"
   ]
  },
  {
   "cell_type": "code",
   "execution_count": null,
   "id": "a5430501",
   "metadata": {},
   "outputs": [
    {
     "name": "stdout",
     "output_type": "stream",
     "text": [
      "   0  1  2\n",
      "0  1  2  3\n",
      "1  4  5  6\n"
     ]
    }
   ],
   "source": [
    "# 21) คำสั่งใดสร้าง DataFrame จากลิสต์ของลิสต์ได้ถูกต้อง\n",
    "import pandas as pd\n",
    "\n",
    "df = pd.DataFrame([[1,2,3],[4,5,6]])\n",
    "print(df)\n",
    "\n",
    "# Ans B) pd.DataFrame([[1,2,3],[4,5,6]]) \t"
   ]
  },
  {
   "cell_type": "markdown",
   "id": "25bbfc23",
   "metadata": {},
   "source": [
    "# 22) ต้องการกำหนดชื่อคอลัมน์เป็น [\"A\",\"B\",\"C\"] ตอนสร้าง DataFrame ใช้พารามิเตอร์ใด"
   ]
  },
  {
   "cell_type": "code",
   "execution_count": null,
   "id": "d339e310",
   "metadata": {},
   "outputs": [],
   "source": [
    "# 22) ต้องการกำหนดชื่อคอลัมน์เป็น [\"A\",\"B\",\"C\"] ตอนสร้าง DataFrame ใช้พารามิเตอร์ใด\n",
    "names = [\"A\",\"B\",\"C\"] \n",
    "\n",
    "# Ans A) names = "
   ]
  },
  {
   "cell_type": "markdown",
   "id": "23765c7a",
   "metadata": {},
   "source": [
    "# 23) กำหนด index เองใน pd.DataFrame(..., index=[...]) มีผลอย่างไร"
   ]
  },
  {
   "cell_type": "code",
   "execution_count": 13,
   "id": "36a9e18d",
   "metadata": {},
   "outputs": [
    {
     "name": "stdout",
     "output_type": "stream",
     "text": [
      "       A   B\n",
      "row1  10  20\n",
      "row2  30  40\n"
     ]
    }
   ],
   "source": [
    "# 23) กำหนด index เองใน pd.DataFrame(..., index=[...]) มีผลอย่างไร\n",
    "import pandas as pd\n",
    "\n",
    "data = [[10, 20], [30, 40]]\n",
    "df = pd.DataFrame(data, columns=['A','B'], index=['row1','row2'])\n",
    "print(df)\n",
    "\n",
    "\n",
    "# Ans C) เปลี่ยน label ของแถว "
   ]
  },
  {
   "cell_type": "markdown",
   "id": "3ad91d76",
   "metadata": {},
   "source": [
    "# 24) ฟังก์ชันใดใช้โหลดไฟล์ Excel"
   ]
  },
  {
   "cell_type": "code",
   "execution_count": null,
   "id": "41d9d093",
   "metadata": {},
   "outputs": [],
   "source": [
    "# 24) ฟังก์ชันใดใช้โหลดไฟล์ Excel\n",
    "import pandas as pd\n",
    "df = pd.read_excel('data.xlsx')\n",
    "print(df.head())\n",
    "\n",
    "# Ans B) pd.read_excel() "
   ]
  },
  {
   "cell_type": "markdown",
   "id": "2aaf6323",
   "metadata": {},
   "source": [
    "# 25) ข้อใดต่อไปนี้อ่านชีตชื่อ \"Sheet2\" จาก Excel "
   ]
  },
  {
   "cell_type": "code",
   "execution_count": null,
   "id": "8ec1a788",
   "metadata": {},
   "outputs": [],
   "source": [
    "# 25) ข้อใดต่อไปนี้อ่านชีตชื่อ \"Sheet2\" จาก Excel \n",
    "pd.read_excel(p, sheet=\"Sheet2\")\n",
    "\n",
    "# Ans A) pd.read_excel(p, sheet=\"Sheet2\")"
   ]
  },
  {
   "cell_type": "markdown",
   "id": "b2bb5a1d",
   "metadata": {},
   "source": [
    "# 26) โหลด CSV จาก URL เป็น orders"
   ]
  },
  {
   "cell_type": "code",
   "execution_count": null,
   "id": "6df64406",
   "metadata": {},
   "outputs": [],
   "source": [
    "# 26) โหลด CSV จาก URL เป็น orders\n",
    "orders = pd.read_csv(\"http://...\")\n",
    "# Ans A) orders = pd.read_csv(\"http://...\")"
   ]
  },
  {
   "cell_type": "markdown",
   "id": "3e5b8b2d",
   "metadata": {},
   "source": [
    "# 27) orders.info() ให้ข้อมูลหลักๆ อะไร"
   ]
  },
  {
   "cell_type": "code",
   "execution_count": null,
   "id": "bab8dfc3",
   "metadata": {},
   "outputs": [
    {
     "name": "stdout",
     "output_type": "stream",
     "text": [
      "<class 'pandas.core.frame.DataFrame'>\n",
      "RangeIndex: 3 entries, 0 to 2\n",
      "Data columns (total 2 columns):\n",
      " #   Column  Non-Null Count  Dtype  \n",
      "---  ------  --------------  -----  \n",
      " 0   A       3 non-null      int64  \n",
      " 1   B       2 non-null      float64\n",
      "dtypes: float64(1), int64(1)\n",
      "memory usage: 180.0 bytes\n"
     ]
    }
   ],
   "source": [
    "# 27) orders.info() ให้ข้อมูลหลักๆ อะไร\n",
    "import pandas as pd\n",
    "\n",
    "data = {'A':[1,2,3], 'B':[4,5,None]}\n",
    "df = pd.DataFrame(data)\n",
    "df.info()\n",
    "\n",
    "# Ans B) รายชื่อคอลัมน์, Non-Null Count, Dtype, memory usage"
   ]
  },
  {
   "cell_type": "markdown",
   "id": "b6b5a276",
   "metadata": {},
   "source": [
    "# 28) ข้อใดต่อไปนี้เป็นวิธีดูรายชื่อคอลัมน์ทั้งหมดของ DataFrame ชื่อ orders"
   ]
  },
  {
   "cell_type": "code",
   "execution_count": null,
   "id": "7db0e137",
   "metadata": {},
   "outputs": [
    {
     "name": "stdout",
     "output_type": "stream",
     "text": [
      "Index(['OrderID', 'Product'], dtype='object')\n"
     ]
    }
   ],
   "source": [
    "# 28) ข้อใดต่อไปนี้เป็นวิธีดูรายชื่อคอลัมน์ทั้งหมดของ DataFrame ชื่อ orders\n",
    "import pandas as pd\n",
    "\n",
    "data = {'OrderID':[1,2], 'Product':['A','B']}\n",
    "orders = pd.DataFrame(data)\n",
    "\n",
    "print(orders.columns)\n",
    " \n",
    "\n",
    "# Ans C) orders.columns "
   ]
  },
  {
   "cell_type": "markdown",
   "id": "bd5aeeff",
   "metadata": {},
   "source": [
    "# 29) ข้อใดต่อไปนี้เป็นการเลือกคอลัมน์เดียว Country จาก DataFrame ชื่อ orders"
   ]
  },
  {
   "cell_type": "code",
   "execution_count": null,
   "id": "135b57f2",
   "metadata": {},
   "outputs": [
    {
     "name": "stdout",
     "output_type": "stream",
     "text": [
      "0    TH\n",
      "1    US\n",
      "2    JP\n",
      "Name: Country, dtype: object\n"
     ]
    }
   ],
   "source": [
    "# 29) ข้อใดต่อไปนี้เป็นการเลือกคอลัมน์เดียว Country จาก DataFrame ชื่อ orders\n",
    "import pandas as pd\n",
    "data = {'Country':['TH','US','JP'], 'Sales':[100,200,150]}\n",
    "orders = pd.DataFrame(data)\n",
    "print(orders[\"Country\"])\n",
    "\n",
    "\n",
    "# Ans B) orders[\"Country\"]"
   ]
  },
  {
   "cell_type": "markdown",
   "id": "7d90279d",
   "metadata": {},
   "source": [
    "# 30) ข้อใดคือการเลือกหลายคอลัมน์ ['Customer','Country']"
   ]
  },
  {
   "cell_type": "code",
   "execution_count": null,
   "id": "792b6220",
   "metadata": {},
   "outputs": [
    {
     "name": "stdout",
     "output_type": "stream",
     "text": [
      "  Customer Country\n",
      "0        A      TH\n",
      "1        B      US\n",
      "2        C      JP\n"
     ]
    }
   ],
   "source": [
    "# 30) ข้อใดคือการเลือกหลายคอลัมน์ ['Customer','Country']\n",
    "import pandas as pd\n",
    "data = {'Customer':['A','B','C'], 'Country':['TH','US','JP'], 'Sales':[100,200,150]}\n",
    "orders = pd.DataFrame(data)\n",
    "print(orders[['Customer','Country']])\n",
    "\n",
    "# Ans B) orders[['Customer','Country']]"
   ]
  },
  {
   "cell_type": "markdown",
   "id": "92f07dff",
   "metadata": {},
   "source": [
    "# 31) ข้อใดใช้ loc เลือกแถว 0–20 เฉพาะคอลัมน์ 'Category'"
   ]
  },
  {
   "cell_type": "code",
   "execution_count": null,
   "id": "69445fe9",
   "metadata": {},
   "outputs": [
    {
     "name": "stdout",
     "output_type": "stream",
     "text": [
      "0    A\n",
      "1    B\n",
      "2    C\n",
      "3    D\n",
      "Name: Category, dtype: object\n"
     ]
    }
   ],
   "source": [
    "# 31) ข้อใดใช้ loc เลือกแถว 0–20 เฉพาะคอลัมน์ 'Category'\n",
    "import pandas as pd\n",
    "data = {'Category':['A','B','C','D','E'], 'Sales':[100,200,150,120,130]}\n",
    "orders = pd.DataFrame(data)\n",
    "print(orders.loc[0:3, 'Category'])\n",
    "\n",
    "# Ans B) orders.loc[0:20,'Category']"
   ]
  },
  {
   "cell_type": "markdown",
   "id": "47a219e8",
   "metadata": {},
   "source": [
    "# 32) ข้อใดต่อไปนี้เลือกแถว 10–30 เฉพาะคอลัมน์ ['OrderID','Quantity','Price','Paid']"
   ]
  },
  {
   "cell_type": "code",
   "execution_count": null,
   "id": "0f36ecb9",
   "metadata": {},
   "outputs": [
    {
     "name": "stdout",
     "output_type": "stream",
     "text": [
      "    OrderID  Quantity  Price Paid\n",
      "10       10        60    110  Yes\n",
      "11       11        61    111  Yes\n",
      "12       12        62    112  Yes\n",
      "13       13        63    113  Yes\n",
      "14       14        64    114  Yes\n",
      "15       15        65    115  Yes\n",
      "16       16        66    116  Yes\n",
      "17       17        67    117  Yes\n",
      "18       18        68    118  Yes\n",
      "19       19        69    119  Yes\n",
      "20       20        70    120  Yes\n",
      "21       21        71    121  Yes\n",
      "22       22        72    122  Yes\n",
      "23       23        73    123  Yes\n",
      "24       24        74    124  Yes\n",
      "25       25        75    125  Yes\n",
      "26       26        76    126  Yes\n",
      "27       27        77    127  Yes\n",
      "28       28        78    128  Yes\n",
      "29       29        79    129  Yes\n",
      "30       30        80    130  Yes\n"
     ]
    }
   ],
   "source": [
    "# 32) ข้อใดต่อไปนี้เลือกแถว 10–30 เฉพาะคอลัมน์ ['OrderID','Quantity','Price','Paid']\n",
    "import pandas as pd\n",
    "data = {\n",
    "    'OrderID': range(50),\n",
    "    'Quantity': range(50,100),\n",
    "    'Price': range(100,150),\n",
    "    'Paid': ['Yes']*50,\n",
    "    'Customer': ['A']*50\n",
    "}\n",
    "orders = pd.DataFrame(data)\n",
    "subset = orders.loc[10:30, ['OrderID','Quantity','Price','Paid']]\n",
    "print(subset)\n",
    "\n",
    "# Ans B) orders.loc[10:30, ['OrderID','Quantity','Price','Paid']]"
   ]
  },
  {
   "cell_type": "markdown",
   "id": "941d4db4",
   "metadata": {},
   "source": [
    "# 33) ข้อใดต่อไปนี้กรองแถวที่ Quantity > 5 ให้ได้ DataFrame"
   ]
  },
  {
   "cell_type": "code",
   "execution_count": 23,
   "id": "44239ca9",
   "metadata": {},
   "outputs": [
    {
     "name": "stdout",
     "output_type": "stream",
     "text": [
      "   OrderID  Quantity\n",
      "1        2         6\n",
      "3        4         8\n"
     ]
    }
   ],
   "source": [
    "# 33) ข้อใดต่อไปนี้กรองแถวที่ Quantity > 5 ให้ได้ DataFrame\n",
    "import pandas as pd\n",
    "data = {'OrderID':[1,2,3,4], 'Quantity':[3,6,2,8]}\n",
    "orders = pd.DataFrame(data)\n",
    "filtered = orders[orders[\"Quantity\"] > 5]\n",
    "print(filtered)\n",
    "\n",
    "# Ans B) orders[orders[\"Quantity\"] > 5]"
   ]
  },
  {
   "cell_type": "markdown",
   "id": "e80f7d33",
   "metadata": {},
   "source": [
    "# 34) ข้อใดต่อไปนี้เป็นการใช้เงื่อนไขหลายเงื่อนไขที่แสดงถึง"
   ]
  },
  {
   "cell_type": "code",
   "execution_count": 24,
   "id": "5af58889",
   "metadata": {},
   "outputs": [
    {
     "name": "stdout",
     "output_type": "stream",
     "text": [
      "   Quantity   Country\n",
      "1         4  Thailand\n"
     ]
    }
   ],
   "source": [
    "# 34) ข้อใดต่อไปนี้เป็นการใช้เงื่อนไขหลายเงื่อนไขที่แสดงถึง\n",
    "import pandas as pd\n",
    "data = {'Quantity':[2,4,5], 'Country':['Thailand','Thailand','US']}\n",
    "orders = pd.DataFrame(data)\n",
    "filtered = orders[(orders[\"Quantity\"] > 3) & (orders[\"Country\"] == \"Thailand\")]\n",
    "print(filtered)\n",
    "\n",
    "# Ans B) orders[(orders[\"Quantity\"] > 3) & (orders[\"Country\"] == \"Thailand\")]"
   ]
  },
  {
   "cell_type": "markdown",
   "id": "092d835d",
   "metadata": {},
   "source": [
    "# 35) ข้อใดต่อไปนี้เป็นการใช้เงื่อนไขหลายเงื่อนไขที่แสดงถึงเงื่อนไข OR"
   ]
  },
  {
   "cell_type": "code",
   "execution_count": 25,
   "id": "a780a6ba",
   "metadata": {},
   "outputs": [
    {
     "name": "stdout",
     "output_type": "stream",
     "text": [
      "      Category Paid\n",
      "0  Electronics  Yes\n",
      "1     Clothing   No\n",
      "2  Electronics  Yes\n"
     ]
    }
   ],
   "source": [
    "# 35) ข้อใดต่อไปนี้เป็นการใช้เงื่อนไขหลายเงื่อนไขที่แสดงถึงเงื่อนไข OR\n",
    "import pandas as pd\n",
    "data = {\n",
    "    'Category':['Electronics','Clothing','Electronics'],\n",
    "    'Paid':['Yes','No','Yes']\n",
    "}\n",
    "orders = pd.DataFrame(data)\n",
    "filtered = orders[(orders[\"Category\"] == \"Electronics\") | (orders[\"Paid\"] == \"No\")]\n",
    "print(filtered)\n",
    "\n",
    "# Ans  C) orders[(orders[\"Category\"] == \"Electronics\") | (orders[\"Paid\"] == \"No\")]"
   ]
  },
  {
   "cell_type": "markdown",
   "id": "4bd6522c",
   "metadata": {},
   "source": [
    "# 36) ข้อใดต่อไปนี้ใช้ isin: เลือกประเทศเฉพาะ ['Thailand','Japan','USA']"
   ]
  },
  {
   "cell_type": "code",
   "execution_count": null,
   "id": "a7bf1a72",
   "metadata": {},
   "outputs": [],
   "source": [
    "# 36) ข้อใดต่อไปนี้ใช้ isin: เลือกประเทศเฉพาะ ['Thailand','Japan','USA']\n",
    "import pandas as pd\n",
    "data = {'Country':['Thailand','Japan','USA','UK']}\n",
    "orders = pd.DataFrame(data)\n",
    "filtered = orders[orders[\"Country\"].isin(['Thailand','Japan','USA'])]\n",
    "print(filtered)\n",
    "\n",
    "# Ans B) orders[orders[\"Country\"].isin(['Thailand','Japan','USA'])]"
   ]
  },
  {
   "cell_type": "markdown",
   "id": "25b9951d",
   "metadata": {},
   "source": [
    "# 37) ข้อใดต่อไปนี้ใช้ query กรองออเดอร์หมวด Fashion และราคามากกว่า 1000"
   ]
  },
  {
   "cell_type": "code",
   "execution_count": 26,
   "id": "a0933c6e",
   "metadata": {},
   "outputs": [
    {
     "name": "stdout",
     "output_type": "stream",
     "text": [
      "  Category  Price\n",
      "0  Fashion   1200\n"
     ]
    }
   ],
   "source": [
    "# 37) ข้อใดต่อไปนี้ใช้ query กรองออเดอร์หมวด Fashion และราคามากกว่า 1000\n",
    "import pandas as pd\n",
    "data = {'Category':['Fashion','Electronics','Fashion'],\n",
    "        'Price':[1200,800,900]}\n",
    "orders = pd.DataFrame(data)\n",
    "filtered = orders.query(\"Category == 'Fashion' and Price > 1000\")\n",
    "print(filtered)\n",
    "\n",
    "# Ans A) orders.query(\"Category == 'Fashion' and Price > 1000\")"
   ]
  },
  {
   "cell_type": "markdown",
   "id": "91b65ff5",
   "metadata": {},
   "source": [
    "# 38) ข้อใดต่อไปนี้เพิ่มคอลัมน์คงที่และคอลัมน์คำนวณ (เช่น Total = Quantity*Price)"
   ]
  },
  {
   "cell_type": "code",
   "execution_count": 27,
   "id": "cf2e324f",
   "metadata": {},
   "outputs": [
    {
     "name": "stdout",
     "output_type": "stream",
     "text": [
      "   Quantity  Price     Shop  Total\n",
      "0         2    100  Bangkok    200\n",
      "1         3    200  Bangkok    600\n"
     ]
    }
   ],
   "source": [
    "# 38) ข้อใดต่อไปนี้เพิ่มคอลัมน์คงที่และคอลัมน์คำนวณ (เช่น Total = Quantity*Price)\n",
    "import pandas as pd\n",
    "data = {'Quantity':[2,3], 'Price':[100,200]}\n",
    "orders = pd.DataFrame(data)\n",
    "orders['Shop'] = 'Bangkok'\n",
    "orders['Total'] = orders['Quantity'] * orders['Price']\n",
    "print(orders)\n",
    "\n",
    "# Ans A)\n",
    "# orders['Shop'] = 'Bangkok'\n",
    "# orders['Total'] = orders['Quantity'] * orders['Price']\n"
   ]
  },
  {
   "cell_type": "markdown",
   "id": "4cd1429f",
   "metadata": {},
   "source": [
    "# 39) ข้อใดต่อไปนี้เป็นการลบหลายคอลัมน์ด้วย drop "
   ]
  },
  {
   "cell_type": "code",
   "execution_count": 28,
   "id": "e9ca49f6",
   "metadata": {},
   "outputs": [
    {
     "name": "stdout",
     "output_type": "stream",
     "text": [
      "   Price\n",
      "0    100\n",
      "1    200\n"
     ]
    }
   ],
   "source": [
    "# 39) ข้อใดต่อไปนี้เป็นการลบหลายคอลัมน์ด้วย drop \n",
    "import pandas as pd\n",
    "data = {'Paid':[1,0], 'Category':['A','B'], 'Price':[100,200]}\n",
    "orders = pd.DataFrame(data)\n",
    "# ลบหลายคอลัมน์ และ assign ให้ตัวแปรใหม่\n",
    "orders = orders.drop(columns=['Paid','Category'])\n",
    "print(orders)\n",
    "\n",
    "# Ans B) orders = orders.drop(columns=['Paid','Category'])"
   ]
  },
  {
   "cell_type": "markdown",
   "id": "20061e85",
   "metadata": {},
   "source": [
    "# 40) ข้อใดต่อไปนี้ เรียงลำดับตาม Country และรองลงมาด้วย Price จากน้อยไปมาก"
   ]
  },
  {
   "cell_type": "code",
   "execution_count": 29,
   "id": "d4cc5c27",
   "metadata": {},
   "outputs": [
    {
     "name": "stdout",
     "output_type": "stream",
     "text": [
      "    Country  Price\n",
      "3  Thailand     50\n",
      "1  Thailand    100\n",
      "2        US    150\n",
      "0        US    200\n"
     ]
    }
   ],
   "source": [
    "# 40) ข้อใดต่อไปนี้ เรียงลำดับตาม Country และรองลงมาด้วย Price จากน้อยไปมาก\n",
    "import pandas as pd\n",
    "data = {'Country':['US','Thailand','US','Thailand'],\n",
    "        'Price':[200,100,150,50]}\n",
    "orders = pd.DataFrame(data)\n",
    "sorted_orders = orders.sort_values(['Country','Price'], ascending=[True,True])\n",
    "print(sorted_orders)\n",
    "\n",
    "# Ans B) orders.sort_values(['Country','Price'], ascending=[True,True])"
   ]
  }
 ],
 "metadata": {
  "kernelspec": {
   "display_name": "environments",
   "language": "python",
   "name": "python3"
  },
  "language_info": {
   "codemirror_mode": {
    "name": "ipython",
    "version": 3
   },
   "file_extension": ".py",
   "mimetype": "text/x-python",
   "name": "python",
   "nbconvert_exporter": "python",
   "pygments_lexer": "ipython3",
   "version": "3.13.5"
  }
 },
 "nbformat": 4,
 "nbformat_minor": 5
}
