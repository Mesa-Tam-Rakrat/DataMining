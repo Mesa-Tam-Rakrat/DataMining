{
 "cells": [
  {
   "cell_type": "markdown",
   "id": "d3a02179",
   "metadata": {},
   "source": [
    "# 1. เรียกใช้งาน library \n",
    "`numpy`\n",
    "`pandas`\n",
    "`matplotlib.pyplot`"
   ]
  },
  {
   "cell_type": "code",
   "execution_count": 1,
   "id": "a9f1a987",
   "metadata": {},
   "outputs": [],
   "source": [
    "import numpy as np \n",
    "import pandas as pd \n",
    "import matplotlib.pyplot as plt "
   ]
  },
  {
   "cell_type": "markdown",
   "id": "684b7f4a",
   "metadata": {},
   "source": [
    "# 2. นำเข้าข้อมูล data_sample.csv"
   ]
  },
  {
   "cell_type": "code",
   "execution_count": 2,
   "id": "8d8a060d",
   "metadata": {},
   "outputs": [],
   "source": [
    "data_sample = pd.read_csv('./datasets/data_sample(4).csv')"
   ]
  },
  {
   "cell_type": "code",
   "execution_count": 18,
   "id": "f5216c65",
   "metadata": {},
   "outputs": [
    {
     "data": {
      "text/html": [
       "<div>\n",
       "<style scoped>\n",
       "    .dataframe tbody tr th:only-of-type {\n",
       "        vertical-align: middle;\n",
       "    }\n",
       "\n",
       "    .dataframe tbody tr th {\n",
       "        vertical-align: top;\n",
       "    }\n",
       "\n",
       "    .dataframe thead th {\n",
       "        text-align: right;\n",
       "    }\n",
       "</style>\n",
       "<table border=\"1\" class=\"dataframe\">\n",
       "  <thead>\n",
       "    <tr style=\"text-align: right;\">\n",
       "      <th></th>\n",
       "      <th>Country</th>\n",
       "      <th>Age</th>\n",
       "      <th>Salary</th>\n",
       "      <th>Purchased</th>\n",
       "    </tr>\n",
       "  </thead>\n",
       "  <tbody>\n",
       "    <tr>\n",
       "      <th>2</th>\n",
       "      <td>Germany</td>\n",
       "      <td>30.0</td>\n",
       "      <td>54000.0</td>\n",
       "      <td>No</td>\n",
       "    </tr>\n",
       "    <tr>\n",
       "      <th>9</th>\n",
       "      <td>France</td>\n",
       "      <td>37.0</td>\n",
       "      <td>67000.0</td>\n",
       "      <td>Yes</td>\n",
       "    </tr>\n",
       "    <tr>\n",
       "      <th>6</th>\n",
       "      <td>Spain</td>\n",
       "      <td>NaN</td>\n",
       "      <td>52000.0</td>\n",
       "      <td>No</td>\n",
       "    </tr>\n",
       "    <tr>\n",
       "      <th>4</th>\n",
       "      <td>Germany</td>\n",
       "      <td>40.0</td>\n",
       "      <td>NaN</td>\n",
       "      <td>Yes</td>\n",
       "    </tr>\n",
       "    <tr>\n",
       "      <th>0</th>\n",
       "      <td>France</td>\n",
       "      <td>44.0</td>\n",
       "      <td>72000.0</td>\n",
       "      <td>No</td>\n",
       "    </tr>\n",
       "  </tbody>\n",
       "</table>\n",
       "</div>"
      ],
      "text/plain": [
       "   Country   Age   Salary Purchased\n",
       "2  Germany  30.0  54000.0        No\n",
       "9   France  37.0  67000.0       Yes\n",
       "6    Spain   NaN  52000.0        No\n",
       "4  Germany  40.0      NaN       Yes\n",
       "0   France  44.0  72000.0        No"
      ]
     },
     "execution_count": 18,
     "metadata": {},
     "output_type": "execute_result"
    }
   ],
   "source": [
    "# ตรวจสอบโครงสร้างข้อมูล \n",
    "data_sample.shape #(ROW,COLUMN)\n",
    "# ข้อมูล  10  แถว  4  คอลลัมน์ \n",
    "data_sample.head(3) # แสดง 5 แถวแรก / ในวงเล็บแสดงจำนวนแถวที่ต้องการ เช่น 3\n",
    "data_sample.tail(3) # แสดง 5 แถวสุดท้าย\n",
    "data_sample.sample(7) # สุ่มมาแสดงข้อมูล ตามจำนวนที่กำหนด\n",
    "data_sample.sample(5,random_state=1) # random_state  กำหนดการสุ่มตัวอย่าง\n",
    "\n"
   ]
  },
  {
   "cell_type": "code",
   "execution_count": 19,
   "id": "613b838b",
   "metadata": {},
   "outputs": [
    {
     "name": "stdout",
     "output_type": "stream",
     "text": [
      "<class 'pandas.core.frame.DataFrame'>\n",
      "RangeIndex: 10 entries, 0 to 9\n",
      "Data columns (total 4 columns):\n",
      " #   Column     Non-Null Count  Dtype  \n",
      "---  ------     --------------  -----  \n",
      " 0   Country    10 non-null     object \n",
      " 1   Age        9 non-null      float64\n",
      " 2   Salary     9 non-null      float64\n",
      " 3   Purchased  10 non-null     object \n",
      "dtypes: float64(2), object(2)\n",
      "memory usage: 452.0+ bytes\n"
     ]
    }
   ],
   "source": [
    "# สำรวจชนิดข้อมูล และ รายละเอียดต่างๆ \n",
    "data_sample.info()"
   ]
  },
  {
   "cell_type": "code",
   "execution_count": null,
   "id": "6bb42c4a",
   "metadata": {},
   "outputs": [
    {
     "data": {
      "text/plain": [
       "Index(['Country', 'Age', 'Salary', 'Purchased'], dtype='object')"
      ]
     },
     "execution_count": 20,
     "metadata": {},
     "output_type": "execute_result"
    }
   ],
   "source": [
    "data_sample.columns # ในคอลัมน์ของเรามีอะไรบ้าง/แสดงชื่อคอลัมน์"
   ]
  },
  {
   "cell_type": "code",
   "execution_count": null,
   "id": "9b9e9a6e",
   "metadata": {},
   "outputs": [
    {
     "data": {
      "text/html": [
       "<div>\n",
       "<style scoped>\n",
       "    .dataframe tbody tr th:only-of-type {\n",
       "        vertical-align: middle;\n",
       "    }\n",
       "\n",
       "    .dataframe tbody tr th {\n",
       "        vertical-align: top;\n",
       "    }\n",
       "\n",
       "    .dataframe thead th {\n",
       "        text-align: right;\n",
       "    }\n",
       "</style>\n",
       "<table border=\"1\" class=\"dataframe\">\n",
       "  <thead>\n",
       "    <tr style=\"text-align: right;\">\n",
       "      <th></th>\n",
       "      <th>Age</th>\n",
       "      <th>Salary</th>\n",
       "    </tr>\n",
       "  </thead>\n",
       "  <tbody>\n",
       "    <tr>\n",
       "      <th>count</th>\n",
       "      <td>9.000000</td>\n",
       "      <td>9.000000</td>\n",
       "    </tr>\n",
       "    <tr>\n",
       "      <th>mean</th>\n",
       "      <td>38.777778</td>\n",
       "      <td>63777.777778</td>\n",
       "    </tr>\n",
       "    <tr>\n",
       "      <th>std</th>\n",
       "      <td>7.693793</td>\n",
       "      <td>12265.579662</td>\n",
       "    </tr>\n",
       "    <tr>\n",
       "      <th>min</th>\n",
       "      <td>27.000000</td>\n",
       "      <td>48000.000000</td>\n",
       "    </tr>\n",
       "    <tr>\n",
       "      <th>25%</th>\n",
       "      <td>35.000000</td>\n",
       "      <td>54000.000000</td>\n",
       "    </tr>\n",
       "    <tr>\n",
       "      <th>50%</th>\n",
       "      <td>38.000000</td>\n",
       "      <td>61000.000000</td>\n",
       "    </tr>\n",
       "    <tr>\n",
       "      <th>75%</th>\n",
       "      <td>44.000000</td>\n",
       "      <td>72000.000000</td>\n",
       "    </tr>\n",
       "    <tr>\n",
       "      <th>max</th>\n",
       "      <td>50.000000</td>\n",
       "      <td>83000.000000</td>\n",
       "    </tr>\n",
       "  </tbody>\n",
       "</table>\n",
       "</div>"
      ],
      "text/plain": [
       "             Age        Salary\n",
       "count   9.000000      9.000000\n",
       "mean   38.777778  63777.777778\n",
       "std     7.693793  12265.579662\n",
       "min    27.000000  48000.000000\n",
       "25%    35.000000  54000.000000\n",
       "50%    38.000000  61000.000000\n",
       "75%    44.000000  72000.000000\n",
       "max    50.000000  83000.000000"
      ]
     },
     "execution_count": 22,
     "metadata": {},
     "output_type": "execute_result"
    }
   ],
   "source": [
    "# สำรวจข้อมูล โดยแสดงค่าทางสถิติ เฉพาะตัวเลข\n",
    "# .describe()\n",
    "data_sample.describe() # แสดงเฉพาะตัวเลข \n",
    "# % เปอร์เซนต์ทาย / ควอทายที่ 1 คือ 25% \n",
    "# data_sample.unique() # คือค่าที่มันแตกต่างกัน "
   ]
  },
  {
   "cell_type": "code",
   "execution_count": null,
   "id": "680c6e9a",
   "metadata": {},
   "outputs": [
    {
     "data": {
      "text/html": [
       "<div>\n",
       "<style scoped>\n",
       "    .dataframe tbody tr th:only-of-type {\n",
       "        vertical-align: middle;\n",
       "    }\n",
       "\n",
       "    .dataframe tbody tr th {\n",
       "        vertical-align: top;\n",
       "    }\n",
       "\n",
       "    .dataframe thead th {\n",
       "        text-align: right;\n",
       "    }\n",
       "</style>\n",
       "<table border=\"1\" class=\"dataframe\">\n",
       "  <thead>\n",
       "    <tr style=\"text-align: right;\">\n",
       "      <th></th>\n",
       "      <th>Country</th>\n",
       "      <th>Purchased</th>\n",
       "    </tr>\n",
       "  </thead>\n",
       "  <tbody>\n",
       "    <tr>\n",
       "      <th>count</th>\n",
       "      <td>10</td>\n",
       "      <td>10</td>\n",
       "    </tr>\n",
       "    <tr>\n",
       "      <th>unique</th>\n",
       "      <td>3</td>\n",
       "      <td>2</td>\n",
       "    </tr>\n",
       "    <tr>\n",
       "      <th>top</th>\n",
       "      <td>France</td>\n",
       "      <td>No</td>\n",
       "    </tr>\n",
       "    <tr>\n",
       "      <th>freq</th>\n",
       "      <td>4</td>\n",
       "      <td>5</td>\n",
       "    </tr>\n",
       "  </tbody>\n",
       "</table>\n",
       "</div>"
      ],
      "text/plain": [
       "       Country Purchased\n",
       "count       10        10\n",
       "unique       3         2\n",
       "top     France        No\n",
       "freq         4         5"
      ]
     },
     "execution_count": 23,
     "metadata": {},
     "output_type": "execute_result"
    }
   ],
   "source": [
    "# สำรวจข้อมูล โดยแสดงค่าทางสถิติ ที่ไม่ใช่ตัวเลข\n",
    "# summary statistics categorical data / categorical data คือข้อมูลที่เป็นกลุ่ม\n",
    "data_sample.describe( exclude=np.number ) \n",
    "\n",
    "data_sample['Age'] = data_sample['Age'].astype('category')"
   ]
  },
  {
   "cell_type": "code",
   "execution_count": 26,
   "id": "a3db3bff",
   "metadata": {},
   "outputs": [],
   "source": [
    "# เปลี่ยนประเภทข้อมูล .astype()\n",
    "data_sample['Age'] = data_sample['Age'].astype('category')\n",
    "data_sample['Age'].describe(exclude=np.number) # ไม่ต้องใส่อันนี้ก็ได้ exclude=np.number \n",
    "\n",
    "# แปลงกลับจาก category เป็น Float\n",
    "data_sample['Age'] = data_sample['Age'].astype('float')"
   ]
  },
  {
   "cell_type": "code",
   "execution_count": 31,
   "id": "99349752",
   "metadata": {},
   "outputs": [
    {
     "data": {
      "text/plain": [
       "Country       0.0\n",
       "Age          10.0\n",
       "Salary       10.0\n",
       "Purchased     0.0\n",
       "dtype: float64"
      ]
     },
     "execution_count": 31,
     "metadata": {},
     "output_type": "execute_result"
    }
   ],
   "source": [
    "# ตรวจสอบข้อมูลสูญหาย missing value\n",
    "#  .isnull()\n",
    "data_sample.isnull() # .isnull ค่าไหนบ้างที่เป็นค่าว่าง ( True )\n",
    "data_sample.isnull().sum() # รวมข้อมูลสูญหาย \n",
    "\n",
    "# นำมาคำนวณเป็น % ( percent ) \n",
    "percent_missing_value = data_sample.isnull().sum() *100 / len(data_sample)\n",
    "percent_missing_value\n",
    "\n"
   ]
  },
  {
   "cell_type": "code",
   "execution_count": 33,
   "id": "e5a672ab",
   "metadata": {},
   "outputs": [
    {
     "data": {
      "image/png": "[encoded data removed]",
      "text/plain": [
       "<Figure size 640x480 with 2 Axes>"
      ]
     },
     "metadata": {},
     "output_type": "display_data"
    }
   ],
   "source": [
    "# แสดงข้อมูลเป็นกราฟ Visualization\n",
    "# .hist()\n",
    "data_sample.hist()\n",
    "plt.show()"
   ]
  },
  {
   "cell_type": "code",
   "execution_count": null,
   "id": "4a9717c1",
   "metadata": {},
   "outputs": [
    {
     "data": {
      "image/png": "[encoded data removed]",
      "text/plain": [
       "<Figure size 640x480 with 1 Axes>"
      ]
     },
     "metadata": {},
     "output_type": "display_data"
    }
   ],
   "source": [
    "# แสดงกราฟ การกระจาย Scatter plot\n",
    "# Age VS Salary \n",
    "import seaborn as sns # ถ้าไม่มีก็ติดตั้ง pip install seaborn \n",
    "sns.scatterplot( data= data_sample, x= 'Age', y= 'Salary' )\n",
    "plt.title(\"AEG VESUS SALARY\") \n",
    "plt.show()"
   ]
  },
  {
   "cell_type": "code",
   "execution_count": 38,
   "id": "f1ec1c3d",
   "metadata": {},
   "outputs": [
    {
     "data": {
      "image/png": "[encoded data removed]",
      "text/plain": [
       "<Figure size 640x480 with 1 Axes>"
      ]
     },
     "metadata": {},
     "output_type": "display_data"
    }
   ],
   "source": [
    "# สำรวจ outline ด้วยกราฟ Bloxplot\n",
    "sns.boxplot( x = data_sample ['Age'])\n",
    "plt.show()"
   ]
  },
  {
   "cell_type": "code",
   "execution_count": 39,
   "id": "ec6f0949",
   "metadata": {},
   "outputs": [
    {
     "data": {
      "image/png": "[encoded data removed]",
      "text/plain": [
       "<Figure size 640x480 with 1 Axes>"
      ]
     },
     "metadata": {},
     "output_type": "display_data"
    }
   ],
   "source": [
    "# สำรวจ outline ด้วยกราฟ Bloxplot\n",
    "sns.boxplot( x = data_sample ['Salary'])\n",
    "plt.show()"
   ]
  },
  {
   "cell_type": "code",
   "execution_count": 40,
   "id": "1d898192",
   "metadata": {},
   "outputs": [
    {
     "data": {
      "image/png": "[encoded data removed]",
      "text/plain": [
       "<Figure size 640x480 with 1 Axes>"
      ]
     },
     "metadata": {},
     "output_type": "display_data"
    }
   ],
   "source": [
    "sns.violinplot(x=data_sample['Age'])\n",
    "plt.show()"
   ]
  }
 ],
 "metadata": {
  "kernelspec": {
   "display_name": "environments",
   "language": "python",
   "name": "python3"
  },
  "language_info": {
   "codemirror_mode": {
    "name": "ipython",
    "version": 3
   },
   "file_extension": ".py",
   "mimetype": "text/x-python",
   "name": "python",
   "nbconvert_exporter": "python",
   "pygments_lexer": "ipython3",
   "version": "3.13.5"
  }
 },
 "nbformat": 4,
 "nbformat_minor": 5
}
