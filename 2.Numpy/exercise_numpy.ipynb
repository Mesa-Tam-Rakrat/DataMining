{
 "cells": [
  {
   "cell_type": "markdown",
   "id": "12bb88e9",
   "metadata": {},
   "source": [
    "## การบ้าน library numpy \n",
    "\n",
    "นางสาวเมษา รักราษฎร์"
   ]
  },
  {
   "cell_type": "code",
   "execution_count": null,
   "id": "2200de47",
   "metadata": {},
   "outputs": [],
   "source": [
    "# import numpy \n",
    "\n",
    "import numpy as np"
   ]
  },
  {
   "cell_type": "markdown",
   "id": "d28e0b28",
   "metadata": {},
   "source": [
    "### 1 สร้างอาเรย์ 1 มิติ (1D array) สร้างอาเรย์ ขนาด 8 ที่มีค่าเป็น เลขคี่ จาก 1 ถึง 15 โดยใช้ np.arange()"
   ]
  },
  {
   "cell_type": "code",
   "execution_count": 3,
   "id": "104bedcb",
   "metadata": {},
   "outputs": [
    {
     "name": "stdout",
     "output_type": "stream",
     "text": [
      "[ 1  3  5  7  9 11 13 15]\n"
     ]
    }
   ],
   "source": [
    "import numpy as np\n",
    "\n",
    "arr = np.arange(1, 16, 2)  # เริ่มจาก 1 ถึงไม่เกิน 16 โดยเพิ่มทีละ 2 (เลขคี่)\n",
    "print(arr)"
   ]
  },
  {
   "cell_type": "markdown",
   "id": "1e5a09d4",
   "metadata": {},
   "source": [
    "### 2 สร้างอาเรย์ 2 มิติ (2D array) สร้างอาเรย์ 3 แถว 5 คอลัมน์ ที่มีค่าเริ่มต้นทั้งหมดเป็น 9 โดยใช้ฟังก์ชันที่เหมาะสม (np.full() หรือวิธีอื่น)\n",
    "\n"
   ]
  },
  {
   "cell_type": "code",
   "execution_count": 4,
   "id": "ec7b6ea9",
   "metadata": {},
   "outputs": [
    {
     "name": "stdout",
     "output_type": "stream",
     "text": [
      "[[9 9 9 9 9]\n",
      " [9 9 9 9 9]\n",
      " [9 9 9 9 9]]\n"
     ]
    }
   ],
   "source": [
    "arr = np.full((3, 5), 9)\n",
    "print(arr)"
   ]
  },
  {
   "cell_type": "markdown",
   "id": "d614e2fb",
   "metadata": {},
   "source": [
    "### 3 สร้างอาเรย์ 3 มิติ (3D array) สร้างอาเรย์ 2 × 3 × 4 ที่มีค่าเป็น 0 ทั้งหมด โดยใช้ np.zeros() และตรวจสอบ shape ของอาเรย์นั้น\n",
    "\n"
   ]
  },
  {
   "cell_type": "code",
   "execution_count": 9,
   "id": "a52d7f81",
   "metadata": {},
   "outputs": [
    {
     "name": "stdout",
     "output_type": "stream",
     "text": [
      "[[[0. 0. 0. 0.]\n",
      "  [0. 0. 0. 0.]\n",
      "  [0. 0. 0. 0.]]\n",
      "\n",
      " [[0. 0. 0. 0.]\n",
      "  [0. 0. 0. 0.]\n",
      "  [0. 0. 0. 0.]]]\n",
      "(2, 3, 4)\n"
     ]
    }
   ],
   "source": [
    "arr = np.zeros((2, 3, 4))\n",
    "print(arr)\n",
    "print(arr.shape)"
   ]
  },
  {
   "cell_type": "markdown",
   "id": "6b0bcfd5",
   "metadata": {},
   "source": [
    "### 4 การใช้ np.linspace() สร้างอาเรย์ที่มี 10 ค่า ซึ่งกระจายจาก 0 ถึง 5 แบบมีช่วงเท่ากันทุกตำแหน่ง"
   ]
  },
  {
   "cell_type": "code",
   "execution_count": 10,
   "id": "8210b861",
   "metadata": {},
   "outputs": [
    {
     "name": "stdout",
     "output_type": "stream",
     "text": [
      "[0.         0.55555556 1.11111111 1.66666667 2.22222222 2.77777778\n",
      " 3.33333333 3.88888889 4.44444444 5.        ]\n"
     ]
    }
   ],
   "source": [
    "arr = np.linspace(0, 5, 10)\n",
    "print(arr)"
   ]
  },
  {
   "cell_type": "markdown",
   "id": "8a4f9859",
   "metadata": {},
   "source": [
    "# แบบฝึกหัด: NumPy Indexing & Slicing default_array = np.array([1,2,3,4,5,6]) default_array_2d = np.array([ [1,2,3,4], [5,6,7,8], [9,10,11,12]"
   ]
  },
  {
   "cell_type": "markdown",
   "id": "07033ecc",
   "metadata": {},
   "source": [
    "### 1 เลือกสมาชิกตัวสุดท้าย ของ default_array โดยใช้ index โดยสร้างตัวแปรชื่อ last_item เพื่อรับค่า\n",
    "\n"
   ]
  },
  {
   "cell_type": "code",
   "execution_count": 13,
   "id": "c4346a54",
   "metadata": {},
   "outputs": [
    {
     "name": "stdout",
     "output_type": "stream",
     "text": [
      "สมาชิกตัวสุดท้ายคือ: 6\n"
     ]
    }
   ],
   "source": [
    "import numpy as np\n",
    "\n",
    "default_array = np.array([1, 2, 3, 4, 5, 6])\n",
    "\n",
    "last_item = default_array[-1]\n",
    "print(\"สมาชิกตัวสุดท้ายคือ:\", last_item)"
   ]
  },
  {
   "cell_type": "markdown",
   "id": "679ebb53",
   "metadata": {},
   "source": [
    "### 2 เลือกสมาชิกตั้งแต่ตำแหน่งที่ 2 ถึง 4 (index 1–3) ของ default_array โดยสร้างตัวแปรชื่อ slice_2_to_4 เพื่อรับค่า\n",
    "\n"
   ]
  },
  {
   "cell_type": "code",
   "execution_count": 17,
   "id": "2a2c20b0",
   "metadata": {},
   "outputs": [
    {
     "name": "stdout",
     "output_type": "stream",
     "text": [
      "สมาชิก index 1 - 3 คือ: [2 3 4]\n"
     ]
    }
   ],
   "source": [
    "default_array = np.array([1, 2, 3, 4, 5, 6])\n",
    "\n",
    "slice_2_to_4 = default_array[1:4]\n",
    "print(\"สมาชิก index 1 - 3 คือ:\", slice_2_to_4)"
   ]
  },
  {
   "cell_type": "markdown",
   "id": "a8074716",
   "metadata": {},
   "source": [
    "### 3 เลือกค่าทั้งหมดในคอลัมน์ที่ 2 ของ default_array_2d โดยสร้างตัวแปรชื่อ column_2 hint [:, 1]"
   ]
  },
  {
   "cell_type": "code",
   "execution_count": 19,
   "id": "24ee78b9",
   "metadata": {},
   "outputs": [
    {
     "name": "stdout",
     "output_type": "stream",
     "text": [
      "คอลัมน์ที่ 2 คือ: [ 2  6 10]\n"
     ]
    }
   ],
   "source": [
    "default_array_2d = np.array([\n",
    "    [1, 2, 3, 4],\n",
    "    [5, 6, 7, 8],\n",
    "    [9, 10, 11, 12]\n",
    "])\n",
    "\n",
    "column_2  = default_array_2d[:, 1]\n",
    "print(\"คอลัมน์ที่ 2 คือ:\", column_2)"
   ]
  },
  {
   "cell_type": "markdown",
   "id": "baac1b62",
   "metadata": {},
   "source": [
    "### 4 เลือกค่าในแถวแรก 2 ตัวสุดท้าย ของ default_array_2d โดยสร้างตัวแปรชื่อ row1_last2 เพื่อรับค่า"
   ]
  },
  {
   "cell_type": "code",
   "execution_count": 21,
   "id": "d774fd64",
   "metadata": {},
   "outputs": [
    {
     "name": "stdout",
     "output_type": "stream",
     "text": [
      "2 ตัวสุดท้ายของแถวแรก คือ: [3 4]\n"
     ]
    }
   ],
   "source": [
    "default_array_2d = np.array([\n",
    "    [1, 2, 3, 4],\n",
    "    [5, 6, 7, 8],\n",
    "    [9, 10, 11, 12]\n",
    "])\n",
    "\n",
    "row1_last2 = default_array_2d[0, -2:]\n",
    "print(\"2 ตัวสุดท้ายของแถวแรก คือ:\", row1_last2)"
   ]
  },
  {
   "cell_type": "markdown",
   "id": "964c5680",
   "metadata": {},
   "source": [
    "### 5 เลือกค่าที่อยู่มุมขวาล่าง (แถวสุดท้าย คอลัมน์สุดท้าย) ของ default_array_2d โดยสร้างตัวแปรชื่อ bottom_right เพื่อรับค่า"
   ]
  },
  {
   "cell_type": "code",
   "execution_count": 22,
   "id": "058f3679",
   "metadata": {},
   "outputs": [
    {
     "name": "stdout",
     "output_type": "stream",
     "text": [
      "ค่าที่มุมขวาล่างคือ: 12\n"
     ]
    }
   ],
   "source": [
    "default_array_2d = np.array([\n",
    "    [1, 2, 3, 4],\n",
    "    [5, 6, 7, 8],\n",
    "    [9, 10, 11, 12]\n",
    "])\n",
    "\n",
    "bottom_right = default_array_2d[-1, -1]\n",
    "print(\"ค่าที่มุมขวาล่างคือ:\", bottom_right)"
   ]
  },
  {
   "cell_type": "markdown",
   "id": "d43eeb55",
   "metadata": {},
   "source": [
    "# แบบฝึกหัด 3:\n",
    "\n",
    "คำนวณ (x^2 + 2x) เมื่อ x = [1,2,3,4]\n",
    "\n",
    "\n"
   ]
  },
  {
   "cell_type": "code",
   "execution_count": 23,
   "id": "f3df96b9",
   "metadata": {},
   "outputs": [
    {
     "name": "stdout",
     "output_type": "stream",
     "text": [
      "[ 3  8 15 24]\n"
     ]
    }
   ],
   "source": [
    "import numpy as np\n",
    "\n",
    "x = np.array([1, 2, 3, 4])\n",
    "result = x**2 + 2*x\n",
    "\n",
    "print(result)"
   ]
  }
 ],
 "metadata": {
  "kernelspec": {
   "display_name": "env",
   "language": "python",
   "name": "python3"
  },
  "language_info": {
   "codemirror_mode": {
    "name": "ipython",
    "version": 3
   },
   "file_extension": ".py",
   "mimetype": "text/x-python",
   "name": "python",
   "nbconvert_exporter": "python",
   "pygments_lexer": "ipython3",
   "version": "3.13.5"
  }
 },
 "nbformat": 4,
 "nbformat_minor": 5
}
