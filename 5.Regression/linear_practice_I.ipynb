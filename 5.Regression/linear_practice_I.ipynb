{
 "cells": [
  {
   "cell_type": "code",
   "execution_count": 1,
   "id": "31fed9a2",
   "metadata": {},
   "outputs": [],
   "source": [
    "import matplotlib.pyplot as plt # เอาไว้สร้างกราฟ\n",
    "import seaborn as sns\n",
    "import pandas as pd\n",
    "import numpy as np"
   ]
  },
  {
   "cell_type": "markdown",
   "id": "e92ab6fc",
   "metadata": {},
   "source": [
    "## 1. เตรียมข้อมูลให้เป็น DataFrame"
   ]
  },
  {
   "cell_type": "code",
   "execution_count": 2,
   "id": "38c482ad",
   "metadata": {},
   "outputs": [],
   "source": [
    "\n",
    "# data preparation \n",
    "# create data ==> create ==> Dictionnay ==> Create Dataframe\n",
    "x_data = [1, 2, 3, 4, 5, 6, 7, 8, 9, 10]   # ข้อมูล x แบบ List \n",
    "y_data = [25, 25, 40, 42, 51, 60, 62, 72, 78, 90] # ข้อมูล y  List \n",
    "x = np.array(x_data) # แปลงข้อมูล x เป็น arrray\n",
    "y = np.array(y_data) # แปลงข้อมูล y เป็น array \n",
    "\n",
    "# dictionary \n",
    "data_dict = { \"x\": x_data, \"y\": y_data} # create dicxtionary \n",
    "\n",
    "# DataFrame\n",
    "df = pd.DataFrame(data_dict) # create data frame "
   ]
  },
  {
   "cell_type": "code",
   "execution_count": null,
   "id": "270348d9",
   "metadata": {},
   "outputs": [],
   "source": [
    "x,y, df"
   ]
  },
  {
   "cell_type": "markdown",
   "id": "b7b6438b",
   "metadata": {},
   "source": [
    "## 2. สร้างแผนภาพการกระจาย Scatterplot"
   ]
  },
  {
   "cell_type": "code",
   "execution_count": 5,
   "id": "e3703dd7",
   "metadata": {},
   "outputs": [
    {
     "data": {
      "image/png": "[encoded data removed]",
      "text/plain": [
       "<Figure size 640x480 with 1 Axes>"
      ]
     },
     "metadata": {},
     "output_type": "display_data"
    }
   ],
   "source": [
    "# สำรวจความสัมพันธ์เบื้องต้น โดยการสร้างกราฟ \n",
    "plt.scatter(x,y)   # ใช้ข้อมูลจาก Numby array \n",
    "plt.title(\" X VS Y \") \n",
    "plt.xlabel(\"Data_X\") \n",
    "plt.ylabel(\"Data_Y\")\n",
    "plt.show()"
   ]
  },
  {
   "cell_type": "markdown",
   "id": "02105309",
   "metadata": {},
   "source": [
    "## 3. หาสัมประสิทธิ์สหสัมพันธ์ Corrleration : .corr()"
   ]
  },
  {
   "cell_type": "markdown",
   "id": "1a6beb8d",
   "metadata": {},
   "source": [
    "## 4. สร้าง linear Regerssion Model"
   ]
  },
  {
   "cell_type": "code",
   "execution_count": 6,
   "id": "91b004f7",
   "metadata": {},
   "outputs": [],
   "source": [
    "from sklearn.linear_model import LinearRegression\n",
    "model = LinearRegression()    # Instance\n"
   ]
  },
  {
   "cell_type": "markdown",
   "id": "f09df927",
   "metadata": {},
   "source": [
    "## 5. จงหาค่า y_pred เมื่อค่า x เป็นค่าเริ่มต้น"
   ]
  },
  {
   "cell_type": "code",
   "execution_count": 9,
   "id": "463fea6a",
   "metadata": {},
   "outputs": [
    {
     "ename": "NotFittedError",
     "evalue": "This LinearRegression instance is not fitted yet. Call 'fit' with appropriate arguments before using this estimator.",
     "output_type": "error",
     "traceback": [
      "\u001b[31m---------------------------------------------------------------------------\u001b[39m",
      "\u001b[31mNotFittedError\u001b[39m                            Traceback (most recent call last)",
      "\u001b[36mCell\u001b[39m\u001b[36m \u001b[39m\u001b[32mIn[9]\u001b[39m\u001b[32m, line 7\u001b[39m\n\u001b[32m      5\u001b[39m x_arr = np.array(\u001b[32m5\u001b[39m)\n\u001b[32m      6\u001b[39m \u001b[38;5;66;03m# x = [ [5] ] \u001b[39;00m\n\u001b[32m----> \u001b[39m\u001b[32m7\u001b[39m y_pred = \u001b[43mmodel\u001b[49m\u001b[43m.\u001b[49m\u001b[43mpredict\u001b[49m\u001b[43m(\u001b[49m\u001b[43mx\u001b[49m\u001b[43m)\u001b[49m\n\u001b[32m      8\u001b[39m y_pred\n",
      "\u001b[36mFile \u001b[39m\u001b[32md:\\Mesa R\\วิชา อ.ต้น_Power_BI\\DataMining\\DataMining\\environments\\Lib\\site-packages\\sklearn\\linear_model\\_base.py:298\u001b[39m, in \u001b[36mLinearModel.predict\u001b[39m\u001b[34m(self, X)\u001b[39m\n\u001b[32m    284\u001b[39m \u001b[38;5;28;01mdef\u001b[39;00m\u001b[38;5;250m \u001b[39m\u001b[34mpredict\u001b[39m(\u001b[38;5;28mself\u001b[39m, X):\n\u001b[32m    285\u001b[39m \u001b[38;5;250m    \u001b[39m\u001b[33;03m\"\"\"\u001b[39;00m\n\u001b[32m    286\u001b[39m \u001b[33;03m    Predict using the linear model.\u001b[39;00m\n\u001b[32m    287\u001b[39m \n\u001b[32m   (...)\u001b[39m\u001b[32m    296\u001b[39m \u001b[33;03m        Returns predicted values.\u001b[39;00m\n\u001b[32m    297\u001b[39m \u001b[33;03m    \"\"\"\u001b[39;00m\n\u001b[32m--> \u001b[39m\u001b[32m298\u001b[39m     \u001b[38;5;28;01mreturn\u001b[39;00m \u001b[38;5;28;43mself\u001b[39;49m\u001b[43m.\u001b[49m\u001b[43m_decision_function\u001b[49m\u001b[43m(\u001b[49m\u001b[43mX\u001b[49m\u001b[43m)\u001b[49m\n",
      "\u001b[36mFile \u001b[39m\u001b[32md:\\Mesa R\\วิชา อ.ต้น_Power_BI\\DataMining\\DataMining\\environments\\Lib\\site-packages\\sklearn\\linear_model\\_base.py:275\u001b[39m, in \u001b[36mLinearModel._decision_function\u001b[39m\u001b[34m(self, X)\u001b[39m\n\u001b[32m    274\u001b[39m \u001b[38;5;28;01mdef\u001b[39;00m\u001b[38;5;250m \u001b[39m\u001b[34m_decision_function\u001b[39m(\u001b[38;5;28mself\u001b[39m, X):\n\u001b[32m--> \u001b[39m\u001b[32m275\u001b[39m     \u001b[43mcheck_is_fitted\u001b[49m\u001b[43m(\u001b[49m\u001b[38;5;28;43mself\u001b[39;49m\u001b[43m)\u001b[49m\n\u001b[32m    277\u001b[39m     X = validate_data(\u001b[38;5;28mself\u001b[39m, X, accept_sparse=[\u001b[33m\"\u001b[39m\u001b[33mcsr\u001b[39m\u001b[33m\"\u001b[39m, \u001b[33m\"\u001b[39m\u001b[33mcsc\u001b[39m\u001b[33m\"\u001b[39m, \u001b[33m\"\u001b[39m\u001b[33mcoo\u001b[39m\u001b[33m\"\u001b[39m], reset=\u001b[38;5;28;01mFalse\u001b[39;00m)\n\u001b[32m    278\u001b[39m     coef_ = \u001b[38;5;28mself\u001b[39m.coef_\n",
      "\u001b[36mFile \u001b[39m\u001b[32md:\\Mesa R\\วิชา อ.ต้น_Power_BI\\DataMining\\DataMining\\environments\\Lib\\site-packages\\sklearn\\utils\\validation.py:1754\u001b[39m, in \u001b[36mcheck_is_fitted\u001b[39m\u001b[34m(estimator, attributes, msg, all_or_any)\u001b[39m\n\u001b[32m   1751\u001b[39m     \u001b[38;5;28;01mreturn\u001b[39;00m\n\u001b[32m   1753\u001b[39m \u001b[38;5;28;01mif\u001b[39;00m \u001b[38;5;129;01mnot\u001b[39;00m _is_fitted(estimator, attributes, all_or_any):\n\u001b[32m-> \u001b[39m\u001b[32m1754\u001b[39m     \u001b[38;5;28;01mraise\u001b[39;00m NotFittedError(msg % {\u001b[33m\"\u001b[39m\u001b[33mname\u001b[39m\u001b[33m\"\u001b[39m: \u001b[38;5;28mtype\u001b[39m(estimator).\u001b[34m__name__\u001b[39m})\n",
      "\u001b[31mNotFittedError\u001b[39m: This LinearRegression instance is not fitted yet. Call 'fit' with appropriate arguments before using this estimator."
     ]
    }
   ],
   "source": [
    "# พยากรณ์ Prediction \n",
    "# Predict y when x = 5\n",
    "# x = [5]   # List 1 แถว \n",
    "# x =[[5]] ไม่มี shape  แต่การ ใส่ [[ ]]  เป็นการระบุว่ามี 1 แถว 1 คอลัมน์ \n",
    "x_arr = np.array(5)\n",
    "# x = [ [5] ] \n",
    "y_pred = model.predict(x)\n",
    "y_pred"
   ]
  }
 ],
 "metadata": {
  "kernelspec": {
   "display_name": "environments",
   "language": "python",
   "name": "python3"
  },
  "language_info": {
   "codemirror_mode": {
    "name": "ipython",
    "version": 3
   },
   "file_extension": ".py",
   "mimetype": "text/x-python",
   "name": "python",
   "nbconvert_exporter": "python",
   "pygments_lexer": "ipython3",
   "version": "3.13.5"
  }
 },
 "nbformat": 4,
 "nbformat_minor": 5
}
