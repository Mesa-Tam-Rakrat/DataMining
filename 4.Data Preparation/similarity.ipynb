{
 "cells": [
  {
   "cell_type": "markdown",
   "id": "0a3659c1",
   "metadata": {},
   "source": [
    "# 1. Distance\n"
   ]
  },
  {
   "cell_type": "code",
   "execution_count": null,
   "id": "e78a43e7",
   "metadata": {},
   "outputs": [],
   "source": [
    "import pandas as pd \n",
    "import numpy as np\n",
    "from scipy.spatial import distance_matrix"
   ]
  },
  {
   "cell_type": "code",
   "execution_count": null,
   "id": "b789b101",
   "metadata": {},
   "outputs": [],
   "source": [
    "# Mocking Data\n",
    "# Dictionary\n",
    "data = {\n",
    "\n",
    "  \"ID\" : [\"P1\",\"P2\",\"P3\",\"P4\"],\n",
    "  \"x\" : [0,2,3,5],\n",
    "  \"y\" : [2,0,1,1],\n",
    "\n",
    "}"
   ]
  },
  {
   "cell_type": "code",
   "execution_count": 9,
   "id": "97ff4170",
   "metadata": {},
   "outputs": [
    {
     "data": {
      "text/html": [
       "<div>\n",
       "<style scoped>\n",
       "    .dataframe tbody tr th:only-of-type {\n",
       "        vertical-align: middle;\n",
       "    }\n",
       "\n",
       "    .dataframe tbody tr th {\n",
       "        vertical-align: top;\n",
       "    }\n",
       "\n",
       "    .dataframe thead th {\n",
       "        text-align: right;\n",
       "    }\n",
       "</style>\n",
       "<table border=\"1\" class=\"dataframe\">\n",
       "  <thead>\n",
       "    <tr style=\"text-align: right;\">\n",
       "      <th></th>\n",
       "      <th>x</th>\n",
       "      <th>y</th>\n",
       "    </tr>\n",
       "    <tr>\n",
       "      <th>ID</th>\n",
       "      <th></th>\n",
       "      <th></th>\n",
       "    </tr>\n",
       "  </thead>\n",
       "  <tbody>\n",
       "    <tr>\n",
       "      <th>P1</th>\n",
       "      <td>0</td>\n",
       "      <td>2</td>\n",
       "    </tr>\n",
       "    <tr>\n",
       "      <th>P2</th>\n",
       "      <td>2</td>\n",
       "      <td>0</td>\n",
       "    </tr>\n",
       "    <tr>\n",
       "      <th>P3</th>\n",
       "      <td>3</td>\n",
       "      <td>1</td>\n",
       "    </tr>\n",
       "    <tr>\n",
       "      <th>P4</th>\n",
       "      <td>5</td>\n",
       "      <td>1</td>\n",
       "    </tr>\n",
       "  </tbody>\n",
       "</table>\n",
       "</div>"
      ],
      "text/plain": [
       "    x  y\n",
       "ID      \n",
       "P1  0  2\n",
       "P2  2  0\n",
       "P3  3  1\n",
       "P4  5  1"
      ]
     },
     "execution_count": 9,
     "metadata": {},
     "output_type": "execute_result"
    }
   ],
   "source": [
    "# print(data)\n",
    "# แปลง Dictionary to DataFram\n",
    "df = pd.DataFrame(data).set_index(\"ID\")\n",
    "df"
   ]
  },
  {
   "cell_type": "code",
   "execution_count": 30,
   "id": "8cb08479",
   "metadata": {},
   "outputs": [],
   "source": [
    "# Manhattan\n",
    "Manhattan = distance_matrix( df.values, df.values, p=1 ) \n",
    "Manhattan = pd.DataFrame( Manhattan , index = df.index , columns = df.index )\n",
    "# Euclidian\n",
    "Euclidian = distance_matrix( df.values, df.values, p=2 )\n",
    "Euclidian = pd.DataFrame( Euclidian , index = df.index , columns = df.index )\n",
    "# Minkowsky (p = 3)\n",
    "Minkowsky = distance_matrix( df.values, df.values, p = 3 )\n",
    "Minkowsky = pd.DataFrame( Minkowsky , index = df.index , columns = df.index )"
   ]
  },
  {
   "cell_type": "code",
   "execution_count": 31,
   "id": "8992f8ad",
   "metadata": {},
   "outputs": [
    {
     "name": "stdout",
     "output_type": "stream",
     "text": [
      "Manhattan \n",
      " ID   P1   P2   P3   P4\n",
      "ID                    \n",
      "P1  0.0  4.0  4.0  6.0\n",
      "P2  4.0  0.0  2.0  4.0\n",
      "P3  4.0  2.0  0.0  2.0\n",
      "P4  6.0  4.0  2.0  0.0\n",
      "Euclidian \n",
      " ID     P1     P2     P3     P4\n",
      "ID                            \n",
      "P1  0.000  2.828  3.162  5.099\n",
      "P2  2.828  0.000  1.414  3.162\n",
      "P3  3.162  1.414  0.000  2.000\n",
      "P4  5.099  3.162  2.000  0.000\n",
      "Minkowsky \n",
      " ID     P1     P2     P3     P4\n",
      "ID                            \n",
      "P1  0.000  2.520  3.037  5.013\n",
      "P2  2.520  0.000  1.260  3.037\n",
      "P3  3.037  1.260  0.000  2.000\n",
      "P4  5.013  3.037  2.000  0.000\n"
     ]
    }
   ],
   "source": [
    "print( \"Manhattan \\n\" ,Manhattan.round(3))\n",
    "\n",
    "print( \"Euclidian \\n\" ,Euclidian.round(3))\n",
    "\n",
    "print( \"Minkowsky \\n\" ,Minkowsky.round(3))\n",
    "\n",
    "# \\n คือการขึ้นบันทัดใหม่\n"
   ]
  }
 ],
 "metadata": {
  "kernelspec": {
   "display_name": "environments",
   "language": "python",
   "name": "python3"
  },
  "language_info": {
   "codemirror_mode": {
    "name": "ipython",
    "version": 3
   },
   "file_extension": ".py",
   "mimetype": "text/x-python",
   "name": "python",
   "nbconvert_exporter": "python",
   "pygments_lexer": "ipython3",
   "version": "3.13.5"
  }
 },
 "nbformat": 4,
 "nbformat_minor": 5
}
